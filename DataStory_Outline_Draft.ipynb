{
 "cells": [
  {
   "cell_type": "markdown",
   "metadata": {},
   "source": [
    "## Motivation\n",
    "\n",
    "- The purpose of this part is to present an initial outline for the tools that can help us in the creation of the Data Story, based on the work done thus far. \n",
    "- By iteratively updating, and keeping the outline in mind, we believe it will help us to reflect around how we can present our results in an effective manner throughout the data analysis pipeline. An approach of being open to finding new insights throughout the project.  \n",
    "- On the other hand, being consious of the data story can also enable us to be more structured in our data analysis process, by developing the story we want to tell and finding the data that can support it. \n",
    "\n",
    "## Structure\n",
    "- The initial outline will be focused on how we could approach communicating the results for the research questions as well as a first outline for in which order it could be natural to present them. \n",
    "- Further iterations will aim at becoming more and more focused on creating a coherent story, that is following a well-thoughout order to improve readability. "
   ]
  },
  {
   "cell_type": "markdown",
   "metadata": {},
   "source": [
    "### Q2/ What does the typical patent-holder look like today (Corporation, Universities, Governments, Individuals), and how has that evolved throughout time / geographies?\n",
    "_Q2.1/ Is a migration of innovators through time visible in the data, e.g. a convergence towards certain innovation centers?  \n",
    "Q2.2 / How has the number of assignees and inventors evolved through time for different patent types? Are there significant differences in these numbers between different geographies?_  "
   ]
  },
  {
   "cell_type": "markdown",
   "metadata": {},
   "source": [
    "### Approach Q2\n",
    "- Question 2 can be a natural way to progress after e.g. a short introduction about patents itself, providing the reader with insight into the main sources of patent creation as well as the potentially a historic overview of the same metric.  \n",
    "- Q2.1 focuses on how data evolves through time from a geographic standpoint, and using  maps to visualize the migration could be a good approach. Below (Q1) interactive graphs are discussed and this could be one alternative here as well. \n",
    "    - One alternative being several maps from ascending periods of time where the reader could see if patterns of innovation centers emerge\n",
    "    - An other alternative could be an interactive chart that enables toggling between different time periods by the reader, enabling comparison by using a single map.\n",
    "- Q2.2. can potentially provide a good segway into what we brought up in the Project's abstract: _\"While innovation is often portrayed as the product of either one charismatic leader - or a ragtag team of geniuses - in reality we suspect that innovations, however important, happen in small steps supported by large networks of people.\"_\n",
    "    - This will also be addressed in more detail in research question 1.\n",
    "    - Various barplots or line plots could provide helpful for the first part of the question, while the same tools might also be an initial way to approach the second part, after segmenting the data into geographies. Maps could also be explored here."
   ]
  },
  {
   "cell_type": "markdown",
   "metadata": {},
   "source": [
    "### Q1/ How can we best identify and visualize different geographical innovation networks? Can we estimate the number of people in such networks?\n",
    "_Q1.1/ If we then take a few examples of different types of companies and look at the network of patents supporting their own patents, will these networks match up with the former innovation networks, or will they be more self-contained? In the latter case, can we estimate the number of people that make up these networks? Are these innovation networks concentrated around specific areas, or are they spread out ?  \n",
    "Q1.2/ Do similar companies use the same knowledge bases to innovate? For example, if we look at different social networking companies, will the networks supporting their patents be distinct? Will a given companies patents mostly cite their own previous patents, or will they tap outside innovation networks? On what scale?  \n",
    "Q1.3/ What about if we look at university/academic knowledge bases and compare them with those of the companies analyzed above?   \n",
    "Q1.4/ What about governmental or non-governmental organizations, or international agencies?    \n",
    "Q1.5/ How have the innovation networks identified above evolved through time?_ "
   ]
  },
  {
   "cell_type": "markdown",
   "metadata": {},
   "source": [
    "### Approach Q1\n",
    "- For the geographically focused research question, a natural approach can be to explore using maps to visualize e.g. the innovation networks.  \n",
    "- In HW2 we worked with **Folium**, which can be one alternative as we have access to longitude- and latitude data. Folium has e.g. cluster-functionality, which could be a way to quantify the magnitude of the networks in different geographic zones. \n",
    "    - Folium also opens up for interactivity.\n",
    "- To represent networks, an alternative could be to use a graph-based approach, where relationships between entities within a network could be represented by nodes and edges. The Python library **networkx**, enables the creation of Network Graphs, is one option. \n",
    "    - Network representations could also be relevant to answer question 1.2, when exploring the citation of patents from similar companies. \n",
    "- Throughout the data story, the usage of **interactive graphs** could be particularly efficient in making the plots self-sufficient and to invite exploration by the reader. Adding the element of time can enable comparing the developmet of innovation networks, and by hovering over parts of the map the reader can obtain more detailed information. \n",
    "    - The Python library **HoloViews** can, alongside networkx, enable the creation of interactive network graphs. \n",
    "    - Another interactive visualization library to explore is **Bokeh**.\n",
    "- Questions Q1.1-2. could provide tangible examples for how prevalent (or not) patent networks are for well-known companies.\n",
    "- By following these results with those of questions Q1.3-4 we believe it could provide a good overview into the similarities ad/or differences between the three major categories of organizations (academia, non-governmental and governmental organizations), hence being of interest to readers within various field, and also (hopefully) providing input to our peers (students) that might be interested in research and innovation, and that might contemplate various possible tracks for their careers.  "
   ]
  },
  {
   "cell_type": "markdown",
   "metadata": {},
   "source": [
    " "
   ]
  }
 ],
 "metadata": {
  "kernelspec": {
   "display_name": "Python [conda env:ada]",
   "language": "python",
   "name": "conda-env-ada-py"
  },
  "language_info": {
   "codemirror_mode": {
    "name": "ipython",
    "version": 3
   },
   "file_extension": ".py",
   "mimetype": "text/x-python",
   "name": "python",
   "nbconvert_exporter": "python",
   "pygments_lexer": "ipython3",
   "version": "3.6.6"
  }
 },
 "nbformat": 4,
 "nbformat_minor": 2
}
