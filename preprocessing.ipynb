{
 "cells": [
  {
   "cell_type": "markdown",
   "metadata": {},
   "source": [
    "# Figuring out the relevant data for each research question"
   ]
  },
  {
   "cell_type": "markdown",
   "metadata": {},
   "source": [
    "The first and arguably most important part of the data preprocessing in this case, is to figure out how to use the functionnalities already set-up in the **PatentsView API** to their fullest extent. This first part, below, focuses on the results we obtained after going through the documentation that was provided with the API, as well as from the preliminary data experimentation.\n",
    "\n",
    "The most relevant documentation can be found here:\n",
    "- [Query Language Documentation](http://www.patentsview.org/api/query-language.html)\n",
    "- [Field List](http://www.patentsview.org/api/patent.html)\n",
    "\n",
    "For each research question, we came up with a list of required output **fields** which the API calls need to return, as well as a list of input **filters** that limit the amount of extra pre-processing we need to do, while at the same time providing us with all the information necessary for us to answer throughly the research questions."
   ]
  },
  {
   "cell_type": "markdown",
   "metadata": {},
   "source": [
    "**N.B. the ordering of the questions is reversed, as after the preprocessing of the data, we realized reversing the question order seemed more logical for the data story.**"
   ]
  },
  {
   "cell_type": "markdown",
   "metadata": {},
   "source": [
    "## Q2/ How can we best identify and visualize different geographical innovation networks? Can we estimate the number of people in such networks?"
   ]
  },
  {
   "cell_type": "markdown",
   "metadata": {},
   "source": [
    "For this first part, we need the following output **fields**:\n",
    "- `patent_number`: US Patent number, as assigned by USPTO.\n",
    "- `assignee_latitude`: Latitude for assignee's location as listed on the patent.\n",
    "- `assignee_longitude`: Longitude for assignee's location as listed on the patent.\n",
    "- `cited_patent_number`: Patent number of cited patent.\n",
    "- `inventor_latitude`: Latitude of inventor's as listed on the selected patent.\n",
    "- `inventor_longitude`: Longitude of inventor's city as listed on the selected patent.\n",
    "- `inventor_lastknown_latitude`: Latitude of inventor's city as of their most recent patent grant date.\n",
    "- `inventor_lastknown_longitude`: Longitude of inventor's city as of their most recent patent grant date.\n",
    "- `patent_type`: Category of patent (see below).\n",
    "\n",
    "We chose to query for the latitudes and longitudes instead of for the location in the format city-state-country, as the former data are more useful for visualization purposes. Furthermore, during our preliminary data analysis, the data in the city-state-country format was not uniform (i.e., some cities were named in full, while others were abbreviated in different ways). On the other hand, the latitudes and longitudes data is uniform, and the missing data is also easier to clean than with the other format.\n",
    "\n",
    "The reason for including the `patent_type` field is that we want to be able to distinguish between major patent categories:\n",
    "- 'Defensive Publication': \"... an intellectual property strategy used to prevent another party from obtaining a patent on a product, apparatus or method for instance.\" ( [wikipedia](https://en.wikipedia.org/wiki/Defensive_publication) )\n",
    "- 'Design': \"... legal protection granted to the ornamental design of a functional item\" ( [wikipedia](https://en.wikipedia.org/wiki/Design_patent) )\n",
    "- 'Plant': covering any \"new variety of plant\" ( [wikipedia](https://en.wikipedia.org/wiki/Plant_breeders'_rights) )\n",
    "- 'Reissue': correction of \"a significant error in an already issued patent\" ( [uslegal](https://definitions.uslegal.com/r/reissue-patent/) )\n",
    "- 'Statutory Invention Registration': \"for publishing patent applications on which they no longer felt they could get patents\" ( [wikipedia](https://en.wikipedia.org/wiki/United_States_Statutory_Invention_Registration) )\n",
    "- 'Utility': patent for a \"useful\" patent ( [wikipedia](https://en.wikipedia.org/wiki/Utility_(patent)) )\n",
    "\n",
    "We will also need to be able to query for patents based on the following **filters**:\n",
    "- `patent_number`: US Patent number, as assigned by USPTO.\n",
    "- `app_date`: Date the patent application was filed (filing date)\n",
    "\n",
    "For the purposes of situating in time the patent data we have, we chose to consider the date at which the patent application was filed, instead of the date at which it was granted. The reasoning behind this choice is that at the time of the patent application, the innovation supporting it already exists. So while using the application date will most probably reduce the amount of most-recent data we can work with, in our opinion it will paint a more vivid picture of innovation. Furthermore, as our analysis is performed on data spanning a few decades, we're confident this choice will not be detremental to our story. "
   ]
  },
  {
   "cell_type": "markdown",
   "metadata": {},
   "source": [
    "### Q2.1/ If we then take a few examples of different types of companies and look at the network of patents supporting their own patents, will these networks match up with the former innovation networks, or will they be more self-contained? In the latter case, can we estimate the number of people that make up these networks? Are these innovation networks concentrated around specific areas, or are they spread out ?"
   ]
  },
  {
   "cell_type": "markdown",
   "metadata": {},
   "source": [
    "This part does not require any extra fields than in the first case. On the other hand, it will be necessary for us to be able to query for the patents owned by specific companies. To this end, we need the following **filter**:\n",
    "- `assignee_organization`: Organization name, if assignee is organization\n",
    "\n",
    "The process we will follow in order to answer this question is as follows:\n",
    "- Settle on a few examples of companies operating in the same industry (e.g., Facebook, Twitter, Snapchat or Apple, Samsung, Huawei).\n",
    "- For each of the chosen companies, identify the patents they held a given point in time\n",
    "- Identify the network of innovators behind these patents\n",
    "- Visualize the networks for each of the companies\n",
    "- Analyze the results - see Q.1.2\n",
    "\n",
    "For this question, as well as the following ones, we will also try to design and implement an interactive way to visualize the results. "
   ]
  },
  {
   "cell_type": "markdown",
   "metadata": {},
   "source": [
    "### Q2.2/ Do similar companies use the same knowledge bases to innovate? For example, if we look at different social networking companies, will the networks supporting their patents be distinct? Will a given companies patents mostly cite their own previous patents, or will they tap outside innovation networks? On what scale? "
   ]
  },
  {
   "cell_type": "markdown",
   "metadata": {},
   "source": [
    "The features necessary to answer these questions have been covered above. "
   ]
  },
  {
   "cell_type": "markdown",
   "metadata": {},
   "source": [
    "### Q2.3/ What about if we look at university/academic knowledge bases and compare them with those of the companies analyzed above?\n",
    "\n",
    "### Q2.4/ What about governmental or non-governmental organizations, or international agencies?\n",
    "\n",
    "### Q2.5/ How have the innovation networks identified above evolved through time?"
   ]
  },
  {
   "cell_type": "markdown",
   "metadata": {},
   "source": [
    "The process to be followed to answer these questions is similar to the process for **Q1.1**, with the exception that we need to be able to identify which patents belong to companies, organizations and governmental entities. To this end, we add the following output **fields** to our search queries:\n",
    "- `assignee_type`: Classification of assignee.\n",
    "\n",
    "The assignee classes are as follows:\n",
    "- '2': US company or corporation\n",
    "- '3': foreign company or corporation\n",
    "- '4': US individual\n",
    "- '5': foreign individual\n",
    "- '6': US government\n",
    "- '7': foreign government\n",
    "- '8': country government\n",
    "- '9': US state governement\n",
    "- '1x': part interest\n",
    "\n",
    "We will also need the following extra output **field**:\n",
    "- `app_date`: Date the patent application was filed (filing date)"
   ]
  },
  {
   "cell_type": "markdown",
   "metadata": {},
   "source": [
    "## Q1/ What does the typical patent-holder look like today (Corporation, Universities, Governments, Individuals), and how has that evolved throughout time / geographies?\n",
    "\n",
    "### Q1.1/  Is a migration of innovators through time visible in the data, e.g. a convergence towards certain innovation centers?\n",
    "\n",
    "### Q1.2 / How has the number of assignees and inventors evolved through for different patent types? Are there significant differences in these numbers between different geographies?"
   ]
  },
  {
   "cell_type": "markdown",
   "metadata": {},
   "source": [
    "The features necessary to answer these questions have been covered above. "
   ]
  },
  {
   "cell_type": "markdown",
   "metadata": {},
   "source": [
    "# Gathering and pre-processing the data"
   ]
  },
  {
   "cell_type": "markdown",
   "metadata": {},
   "source": [
    "The **pipeline.py** file contains the functions used to prepare the data for our analysis. The functions that are used at the pre-processing level are:\n",
    "- The **patentsviewAPI()** function puts together the query string, the output fields string and the options string, and then extracts and saves the data returned by the PatentsView API in json format. The saved json data is of the following format (if there are no extra output fields added to the query):\n",
    "\n",
    "\n",
    "    - page number in format '1', '2', ...\n",
    "      - 'patents': list of patents in page. For each patent:\n",
    "        - 'patent_number'\n",
    "        - 'patent_type'\n",
    "        - 'inventors' : list of inventors listed for the patent. For each inventor:\n",
    "          - 'inventor_latitude'\n",
    "          - 'inventor_longitude'\n",
    "          - 'inventor_lastknown_latitude'\n",
    "          - 'inventor_lastknown_longitude'\n",
    "          - 'inventor_key_id'\n",
    "        - 'assignees': list of assignees listed for the patent. For each assignee:\n",
    "          - 'assignee_latitude'\n",
    "          - 'assignee_longitude'\n",
    "          - 'assignee_organization'\n",
    "          - 'assignee_type'\n",
    "          - 'assignee_key_id'\n",
    "        - 'applications'\n",
    "          - 'app_date'\n",
    "          - 'app_id'\n",
    "        - 'cited_patents' : list of other patents cited by the current patent. For each cited patent:\n",
    "          - 'cited_patent_number'\n",
    "      - 'count': number of results in the page\n",
    "      - 'total_patent_count': total number of patents referenced in the results\n",
    "\n",
    "\n",
    "- The **json_to_pandas()** function converts the saved json data from the PatentsView API to the format that is most convient for us for the pre-processing step - a set containing the following Pandas DataFrames:\n",
    "\n",
    "  - `date`: associates a patent_number its application date.\n",
    "  - `patent_type`: the number of patents in each patent_type category.\n",
    "  - `assignee_type`: the number of patents in each assignee_type category.\n",
    "  - `assignee_organization`: the number of patents belonging to each organization in the dataset.\n",
    "  - `cited_patent_number`: the number of citations for each patent cited by a patent in the dataset.\n",
    "  - `inventor_location`: inventor locations as stated in the patent application, indexed by patent_number.\n",
    "  - `inventor_lastknown_location`: inventor locations as stated in the their most recent patent, indexed by patent number.\n",
    "  - `assignee_location`: assignee locations as stated in the patent application, indexed by patent number.\n",
    "  \n",
    "  This function will make analyzing the 'raw' data more straightforward. Using this function to analyze the query results, we will then be able to specify the data cleaning process that is needed.\n",
    " \n",
    " \n",
    "- The **clean_data()** function, which is detailed in the last section of this ipython notebook, converts the saved jsondata from the PatentsView API to the format that is most useful in answering the research questions - a set containing the following objects:\n",
    "\n",
    "  - `assignees`: DataFrame with the following structure:\n",
    "    - assignee_key_id (index)\n",
    "    - assignee_type\n",
    "    - assignee_organization\n",
    "    - assignee_location, format (latitude, longitude)\n",
    "    \n",
    "  - `inventors`: DataFrame with the following structure:\n",
    "    - inventor_key_id (index)\n",
    "    - inventor_location, format (latitude, longitude)\n",
    "    - inventor_last_location, format (latitude, longitude)\n",
    "    \n",
    "  - `patents`: Collection with the following structure:\n",
    "    - patent_number (index)\n",
    "    - patent_type\n",
    "    - app_date\n",
    "    - assignee_key_id, list containing all the patent assignees id (to match with `assignees`)\n",
    "    - inventor_key_id, list containing all the patent inventors id (to match with `inventors`)\n",
    "    \n",
    "  - `citations`: DataFrame with the following structure:\n",
    "    - cited_patent_number (index)\n",
    "    - count\n",
    "\n",
    "\n",
    "**As the maximum number of results per query is 10,000 per page, capped at 10 pages, in order to avoid hitting the limit, as a rule of thumb, if we are querying for all patent applications in a given date range, we need to keep the date range to about quarter of a year.**"
   ]
  },
  {
   "cell_type": "markdown",
   "metadata": {},
   "source": [
    "# Example of analysis on a sample of data"
   ]
  },
  {
   "cell_type": "code",
   "execution_count": 1,
   "metadata": {},
   "outputs": [],
   "source": [
    "import pandas as pd\n",
    "from pipeline import patentsviewAPI, json_to_pandas"
   ]
  },
  {
   "cell_type": "markdown",
   "metadata": {},
   "source": [
    "## Get and pre-process data"
   ]
  },
  {
   "cell_type": "markdown",
   "metadata": {},
   "source": [
    "If the data has already been extracted from the PatentsView API, run second block, otherwise run first"
   ]
  },
  {
   "cell_type": "code",
   "execution_count": 2,
   "metadata": {},
   "outputs": [
    {
     "name": "stdout",
     "output_type": "stream",
     "text": [
      "fetching first page\n",
      "fetching page 2\n",
      "fetching page 3\n",
      "fetching page 4\n",
      "fetching page 5\n",
      "fetching page 6\n",
      "saving data\n"
     ]
    }
   ],
   "source": [
    "datafile = patentsviewAPI(filename = '2015_q1', filepath = 'data',\n",
    "                          app_date_from = '\"2015-01-01\"', app_date_to = '\"2015-03-31\"')\n",
    "data = json_to_pandas(datafile)"
   ]
  },
  {
   "cell_type": "code",
   "execution_count": 3,
   "metadata": {},
   "outputs": [],
   "source": [
    "data = json_to_pandas(datafile)"
   ]
  },
  {
   "cell_type": "markdown",
   "metadata": {},
   "source": [
    "## Analysis"
   ]
  },
  {
   "cell_type": "code",
   "execution_count": 4,
   "metadata": {},
   "outputs": [
    {
     "data": {
      "text/plain": [
       "dict_keys(['date', 'patent_type', 'assignee_type', 'assignee_organization', 'cited_patent_number', 'inventor_location', 'inventor_lastknown_location', 'assignee_location'])"
      ]
     },
     "execution_count": 4,
     "metadata": {},
     "output_type": "execute_result"
    }
   ],
   "source": [
    "data.keys()"
   ]
  },
  {
   "cell_type": "markdown",
   "metadata": {},
   "source": [
    "Check the `date` dataframe. There should not be any inconsistencies here, as our query was based on the dates, so inconsistent dates would not have been returned."
   ]
  },
  {
   "cell_type": "code",
   "execution_count": 5,
   "metadata": {},
   "outputs": [
    {
     "data": {
      "text/plain": [
       "('2015-01-01', '2015-03-31')"
      ]
     },
     "execution_count": 5,
     "metadata": {},
     "output_type": "execute_result"
    }
   ],
   "source": [
    "data['date'].min().values[0], data['date'].max().values[0]"
   ]
  },
  {
   "cell_type": "code",
   "execution_count": 6,
   "metadata": {},
   "outputs": [
    {
     "data": {
      "text/plain": [
       "(array([0]), array([0]))"
      ]
     },
     "execution_count": 6,
     "metadata": {},
     "output_type": "execute_result"
    }
   ],
   "source": [
    "sum(data['date'].values == None), sum(data['date'].values == float('nan'))"
   ]
  },
  {
   "cell_type": "markdown",
   "metadata": {},
   "source": [
    "Check the `patent_type` dataframe."
   ]
  },
  {
   "cell_type": "code",
   "execution_count": 7,
   "metadata": {},
   "outputs": [
    {
     "data": {
      "text/html": [
       "<div>\n",
       "<style scoped>\n",
       "    .dataframe tbody tr th:only-of-type {\n",
       "        vertical-align: middle;\n",
       "    }\n",
       "\n",
       "    .dataframe tbody tr th {\n",
       "        vertical-align: top;\n",
       "    }\n",
       "\n",
       "    .dataframe thead th {\n",
       "        text-align: right;\n",
       "    }\n",
       "</style>\n",
       "<table border=\"1\" class=\"dataframe\">\n",
       "  <thead>\n",
       "    <tr style=\"text-align: right;\">\n",
       "      <th></th>\n",
       "      <th>count</th>\n",
       "    </tr>\n",
       "  </thead>\n",
       "  <tbody>\n",
       "    <tr>\n",
       "      <th>utility</th>\n",
       "      <td>47695</td>\n",
       "    </tr>\n",
       "    <tr>\n",
       "      <th>design</th>\n",
       "      <td>7218</td>\n",
       "    </tr>\n",
       "    <tr>\n",
       "      <th>plant</th>\n",
       "      <td>251</td>\n",
       "    </tr>\n",
       "    <tr>\n",
       "      <th>reissue</th>\n",
       "      <td>94</td>\n",
       "    </tr>\n",
       "  </tbody>\n",
       "</table>\n",
       "</div>"
      ],
      "text/plain": [
       "         count\n",
       "utility  47695\n",
       "design    7218\n",
       "plant      251\n",
       "reissue     94"
      ]
     },
     "execution_count": 7,
     "metadata": {},
     "output_type": "execute_result"
    }
   ],
   "source": [
    "data['patent_type']"
   ]
  },
  {
   "cell_type": "markdown",
   "metadata": {},
   "source": [
    "**Utility patents** are the most relevant for us. They are patents protecting \"any new and useful process, machine, manufacture, or composition of matter, or any new and useful improvement thereof\" ( [U.S. Code § 101](https://www.law.cornell.edu/uscode/text/35/101) ) These are the patents that we usually have in mind when we think of new technological innovations. On the other hand, **design** and **plant** patents are also relevant. What we see here is that these two categories are considerably smaller than the first. \n",
    "\n",
    "While we weren't necessarily expecting this result, it leads us to conclude that is it not necessary to discriminate between those three patent types. (If, e.g., design patent numbers had been more similary to utility patents, we could have chosen to only consider utility patents, or to split the analysis in two parts, as the two patent types refer to vastly different innovation types.) It will nonetheless be interesting to keep this difference in mind while answering the research questions.\n",
    "\n",
    "As for the **reissue** patent type, we chose to disregard them, as they are not truly innovations, but only corrections on already issued patents. This category will be omitted directly when calling the API.\n",
    "\n",
    "As for the two remaining patent types, **defensive publications** and **statutory invention registrations**, while they are not patents per say, they do refer to innovations, so they are relevant."
   ]
  },
  {
   "cell_type": "markdown",
   "metadata": {},
   "source": [
    "Check the `assignee_type` dataframe."
   ]
  },
  {
   "cell_type": "code",
   "execution_count": 8,
   "metadata": {},
   "outputs": [
    {
     "data": {
      "text/html": [
       "<div>\n",
       "<style scoped>\n",
       "    .dataframe tbody tr th:only-of-type {\n",
       "        vertical-align: middle;\n",
       "    }\n",
       "\n",
       "    .dataframe tbody tr th {\n",
       "        vertical-align: top;\n",
       "    }\n",
       "\n",
       "    .dataframe thead th {\n",
       "        text-align: right;\n",
       "    }\n",
       "</style>\n",
       "<table border=\"1\" class=\"dataframe\">\n",
       "  <thead>\n",
       "    <tr style=\"text-align: right;\">\n",
       "      <th></th>\n",
       "      <th>count</th>\n",
       "    </tr>\n",
       "  </thead>\n",
       "  <tbody>\n",
       "    <tr>\n",
       "      <th>3</th>\n",
       "      <td>26723</td>\n",
       "    </tr>\n",
       "    <tr>\n",
       "      <th>2</th>\n",
       "      <td>25245</td>\n",
       "    </tr>\n",
       "    <tr>\n",
       "      <th>NaN</th>\n",
       "      <td>4444</td>\n",
       "    </tr>\n",
       "    <tr>\n",
       "      <th>4</th>\n",
       "      <td>224</td>\n",
       "    </tr>\n",
       "    <tr>\n",
       "      <th>5</th>\n",
       "      <td>177</td>\n",
       "    </tr>\n",
       "    <tr>\n",
       "      <th>6</th>\n",
       "      <td>160</td>\n",
       "    </tr>\n",
       "    <tr>\n",
       "      <th>7</th>\n",
       "      <td>38</td>\n",
       "    </tr>\n",
       "  </tbody>\n",
       "</table>\n",
       "</div>"
      ],
      "text/plain": [
       "     count\n",
       "3    26723\n",
       "2    25245\n",
       "NaN   4444\n",
       "4      224\n",
       "5      177\n",
       "6      160\n",
       "7       38"
      ]
     },
     "execution_count": 8,
     "metadata": {},
     "output_type": "execute_result"
    }
   ],
   "source": [
    "data['assignee_type']"
   ]
  },
  {
   "cell_type": "code",
   "execution_count": 9,
   "metadata": {},
   "outputs": [
    {
     "data": {
      "text/plain": [
       "array([False, False,  True, False, False, False, False])"
      ]
     },
     "execution_count": 9,
     "metadata": {},
     "output_type": "execute_result"
    }
   ],
   "source": [
    "data['assignee_type'].index.values == None"
   ]
  },
  {
   "cell_type": "markdown",
   "metadata": {},
   "source": [
    "While the **NaNs** count in the `assignee_type` dataframe is negligeable as compared to the total count of assignees, there is an issue: assignee_types 4 and 5 refer to, respectively, US and foreign individuals. The total number of individuals assignees is thus much smaller than the NaN assignees count. Before removing the NaN values, we will need to investigate further what they may represent. "
   ]
  },
  {
   "cell_type": "markdown",
   "metadata": {},
   "source": [
    "Check the `assignee_organization` dataframe."
   ]
  },
  {
   "cell_type": "code",
   "execution_count": 10,
   "metadata": {},
   "outputs": [
    {
     "name": "stdout",
     "output_type": "stream",
     "text": [
      "                                                  count\n",
      "NaN                                                4841\n",
      "Samsung Electronics Co., Ltd.                      1550\n",
      "International Business Machines Corporation        1161\n",
      "Canon Kabushiki Kaisha                              696\n",
      "LG Electronics Inc.                                 507\n",
      "QUALCOMM Incorporated                               474\n",
      "Kabushiki Kaisha Toshiba                            470\n",
      "Seiko Epson Corporation                             470\n",
      "Samsung Display Co., Ltd.                           419\n",
      "Taiwan Semiconductor Manufacturing Company, Ltd.    385\n",
      "                                              count\n",
      "R.J. Reynolds Tobacco Products                    1\n",
      "XI'AN AOLAN SCIENCE AND TECHNOLOGY CO., LTD.      1\n",
      "Wowwee Group Limited                              1\n",
      "Epoch Company, Ltd.                               1\n",
      "VeraWall, LLC                                     1\n",
      "Onepin, Inc.                                      1\n",
      "Thirdwayv, Inc.                                   1\n",
      "Empow Cyber Security Ltd.                         1\n",
      "Exax Inc.                                         1\n",
      "Polypeptide Laboratories Holding (PPL) AB         1\n"
     ]
    },
    {
     "data": {
      "text/plain": [
       "(None, None)"
      ]
     },
     "execution_count": 10,
     "metadata": {},
     "output_type": "execute_result"
    }
   ],
   "source": [
    "print(data['assignee_organization'].head(10)), print(data['assignee_organization'].tail(10))"
   ]
  },
  {
   "cell_type": "code",
   "execution_count": 11,
   "metadata": {},
   "outputs": [
    {
     "data": {
      "text/plain": [
       "True"
      ]
     },
     "execution_count": 11,
     "metadata": {},
     "output_type": "execute_result"
    }
   ],
   "source": [
    "data['assignee_organization'].index.values[0] == None"
   ]
  },
  {
   "cell_type": "code",
   "execution_count": 12,
   "metadata": {},
   "outputs": [
    {
     "name": "stdout",
     "output_type": "stream",
     "text": [
      "Sony Côrporation\n",
      "Sony Mobile Communications Inc.\n",
      "Sony Interactive Entertainment America LLC\n",
      "Sony Semiconductor Solutions Corporation\n",
      "SONY NETWORK ENTERTAINMENT INTERNATIONAL LLC\n",
      "Sony Computer Entertainment Europe Limited\n",
      "Sony Interactive Entertainment Europe Limited\n",
      "Sony Computer Entertainment Inc.\n",
      "SONY OLYMPUS MEDICAL SOLUTIONS INC.\n",
      "Sony Corporation of America\n",
      "Sony Europe Limited\n"
     ]
    }
   ],
   "source": [
    "for assignee in data['assignee_organization'].index.values[1:]:\n",
    "    if 'sony' in assignee.lower():\n",
    "        print(assignee)"
   ]
  },
  {
   "cell_type": "markdown",
   "metadata": {},
   "source": [
    "The NaN count is refers should normally correspond to the total number of indiviuals assignee_type. In this case, though, we notice that it corresponds almost perfectly to the sum of the individual assignees count and NaN counts in the `assignee_type` dataframe.\n",
    "\n",
    "While the organization names are definitely not in a standardized format, this will not be a problem, as we can simply use the list we obtain from querying for dates to get a list of the names used in the database."
   ]
  },
  {
   "cell_type": "code",
   "execution_count": 13,
   "metadata": {},
   "outputs": [
    {
     "data": {
      "text/plain": [
       "(4845, 4841)"
      ]
     },
     "execution_count": 13,
     "metadata": {},
     "output_type": "execute_result"
    }
   ],
   "source": [
    "sum(data['assignee_type']['count'].iloc[2:5]), sum(data['assignee_organization'].iloc[0])"
   ]
  },
  {
   "cell_type": "markdown",
   "metadata": {},
   "source": [
    "Check `cited_patent_number` dataframe."
   ]
  },
  {
   "cell_type": "code",
   "execution_count": 14,
   "metadata": {},
   "outputs": [
    {
     "name": "stdout",
     "output_type": "stream",
     "text": [
      "         count\n",
      "NaN       6668\n",
      "7674650    127\n",
      "7732819    124\n",
      "7297977    123\n",
      "6294274    123\n",
      "7282782    123\n",
      "7385224    122\n",
      "7064346    122\n",
      "7061014    122\n",
      "7323356    122\n",
      "         count\n",
      "6911243      1\n",
      "6670521      1\n",
      "6363530      1\n",
      "440051       1\n",
      "436738       1\n",
      "419780       1\n",
      "5034078      1\n",
      "4640859      1\n",
      "3894352      1\n",
      "6309066      1\n"
     ]
    },
    {
     "data": {
      "text/plain": [
       "(None, None)"
      ]
     },
     "execution_count": 14,
     "metadata": {},
     "output_type": "execute_result"
    }
   ],
   "source": [
    "print(data['cited_patent_number'].head(10)), print(data['cited_patent_number'].tail(10))"
   ]
  },
  {
   "cell_type": "code",
   "execution_count": 15,
   "metadata": {},
   "outputs": [
    {
     "data": {
      "text/plain": [
       "611599"
      ]
     },
     "execution_count": 15,
     "metadata": {},
     "output_type": "execute_result"
    }
   ],
   "source": [
    "len(data['cited_patent_number']) - 1"
   ]
  },
  {
   "cell_type": "code",
   "execution_count": 16,
   "metadata": {},
   "outputs": [
    {
     "data": {
      "text/html": [
       "<div>\n",
       "<style scoped>\n",
       "    .dataframe tbody tr th:only-of-type {\n",
       "        vertical-align: middle;\n",
       "    }\n",
       "\n",
       "    .dataframe tbody tr th {\n",
       "        vertical-align: top;\n",
       "    }\n",
       "\n",
       "    .dataframe thead th {\n",
       "        text-align: right;\n",
       "    }\n",
       "</style>\n",
       "<table border=\"1\" class=\"dataframe\">\n",
       "  <thead>\n",
       "    <tr style=\"text-align: right;\">\n",
       "      <th></th>\n",
       "      <th>count</th>\n",
       "    </tr>\n",
       "  </thead>\n",
       "  <tbody>\n",
       "    <tr>\n",
       "      <th>count</th>\n",
       "      <td>611600.000000</td>\n",
       "    </tr>\n",
       "    <tr>\n",
       "      <th>mean</th>\n",
       "      <td>1.712860</td>\n",
       "    </tr>\n",
       "    <tr>\n",
       "      <th>std</th>\n",
       "      <td>8.728264</td>\n",
       "    </tr>\n",
       "    <tr>\n",
       "      <th>min</th>\n",
       "      <td>1.000000</td>\n",
       "    </tr>\n",
       "    <tr>\n",
       "      <th>25%</th>\n",
       "      <td>1.000000</td>\n",
       "    </tr>\n",
       "    <tr>\n",
       "      <th>50%</th>\n",
       "      <td>1.000000</td>\n",
       "    </tr>\n",
       "    <tr>\n",
       "      <th>75%</th>\n",
       "      <td>2.000000</td>\n",
       "    </tr>\n",
       "    <tr>\n",
       "      <th>max</th>\n",
       "      <td>6668.000000</td>\n",
       "    </tr>\n",
       "  </tbody>\n",
       "</table>\n",
       "</div>"
      ],
      "text/plain": [
       "               count\n",
       "count  611600.000000\n",
       "mean        1.712860\n",
       "std         8.728264\n",
       "min         1.000000\n",
       "25%         1.000000\n",
       "50%         1.000000\n",
       "75%         2.000000\n",
       "max      6668.000000"
      ]
     },
     "execution_count": 16,
     "metadata": {},
     "output_type": "execute_result"
    }
   ],
   "source": [
    "data['cited_patent_number'].describe()"
   ]
  },
  {
   "cell_type": "markdown",
   "metadata": {},
   "source": [
    "The NaN count here refers to the number of patent citations by the patents in our dataset which do not have a patent number. This is to say that the NaN count is an upper bound on the number of cited patents with no corresponding patent number. As the number of total cited patents is almost 100 times larger than the NaN count, we judge that we can safely disregard them and have them be skipped in the data cleaning process. Otherwise, we see that all entries are numeric, which suggests that the format is entirely uniform."
   ]
  },
  {
   "cell_type": "markdown",
   "metadata": {},
   "source": [
    "Check `inventor_location` dataframe."
   ]
  },
  {
   "cell_type": "code",
   "execution_count": 17,
   "metadata": {},
   "outputs": [
    {
     "data": {
      "text/plain": [
       "lat    object\n",
       "lon    object\n",
       "dtype: object"
      ]
     },
     "execution_count": 17,
     "metadata": {},
     "output_type": "execute_result"
    }
   ],
   "source": [
    "data['inventor_location'].dtypes"
   ]
  },
  {
   "cell_type": "markdown",
   "metadata": {},
   "source": [
    "The first thing to do will be to convert the latitudes and longitudes from objects to floats, while performing the data pre-processing."
   ]
  },
  {
   "cell_type": "code",
   "execution_count": 18,
   "metadata": {},
   "outputs": [
    {
     "data": {
      "text/html": [
       "<div>\n",
       "<style scoped>\n",
       "    .dataframe tbody tr th:only-of-type {\n",
       "        vertical-align: middle;\n",
       "    }\n",
       "\n",
       "    .dataframe tbody tr th {\n",
       "        vertical-align: top;\n",
       "    }\n",
       "\n",
       "    .dataframe thead th {\n",
       "        text-align: right;\n",
       "    }\n",
       "</style>\n",
       "<table border=\"1\" class=\"dataframe\">\n",
       "  <thead>\n",
       "    <tr style=\"text-align: right;\">\n",
       "      <th></th>\n",
       "      <th>lat</th>\n",
       "      <th>lon</th>\n",
       "    </tr>\n",
       "  </thead>\n",
       "  <tbody>\n",
       "    <tr>\n",
       "      <th>count</th>\n",
       "      <td>148610</td>\n",
       "      <td>148610</td>\n",
       "    </tr>\n",
       "    <tr>\n",
       "      <th>unique</th>\n",
       "      <td>11977</td>\n",
       "      <td>12129</td>\n",
       "    </tr>\n",
       "    <tr>\n",
       "      <th>top</th>\n",
       "      <td>37.5665</td>\n",
       "      <td>126.978</td>\n",
       "    </tr>\n",
       "    <tr>\n",
       "      <th>freq</th>\n",
       "      <td>4425</td>\n",
       "      <td>4425</td>\n",
       "    </tr>\n",
       "  </tbody>\n",
       "</table>\n",
       "</div>"
      ],
      "text/plain": [
       "            lat      lon\n",
       "count    148610   148610\n",
       "unique    11977    12129\n",
       "top     37.5665  126.978\n",
       "freq       4425     4425"
      ]
     },
     "execution_count": 18,
     "metadata": {},
     "output_type": "execute_result"
    }
   ],
   "source": [
    "data['inventor_location'].describe()"
   ]
  },
  {
   "cell_type": "code",
   "execution_count": 19,
   "metadata": {},
   "outputs": [
    {
     "data": {
      "text/plain": [
       "57011"
      ]
     },
     "execution_count": 19,
     "metadata": {},
     "output_type": "execute_result"
    }
   ],
   "source": [
    "len(data['assignee_location'])"
   ]
  },
  {
   "cell_type": "code",
   "execution_count": 20,
   "metadata": {},
   "outputs": [
    {
     "data": {
      "text/plain": [
       "(array([4522, 4522]), array([0, 0]))"
      ]
     },
     "execution_count": 20,
     "metadata": {},
     "output_type": "execute_result"
    }
   ],
   "source": [
    "sum(data['assignee_location'].values == None), sum(data['assignee_location'].values == float('nan'))"
   ]
  },
  {
   "cell_type": "code",
   "execution_count": 21,
   "metadata": {},
   "outputs": [
    {
     "data": {
      "text/plain": [
       "array([885, 885])"
      ]
     },
     "execution_count": 21,
     "metadata": {},
     "output_type": "execute_result"
    }
   ],
   "source": [
    "sum(data['assignee_location'].values == '0.1')"
   ]
  },
  {
   "cell_type": "markdown",
   "metadata": {},
   "source": [
    "The major issue here is that almost 10% of the latitude and longitude data is either ('None','None') or ('0.1','0.1'). As our goal is to come up with a way to 'visualize' the dynamics of innovation, we need to discard this data. "
   ]
  },
  {
   "cell_type": "markdown",
   "metadata": {},
   "source": [
    "Check `inventor_location` and `inventor_lastknown_location` dataframes."
   ]
  },
  {
   "cell_type": "code",
   "execution_count": 22,
   "metadata": {},
   "outputs": [
    {
     "data": {
      "text/plain": [
       "(lat    object\n",
       " lon    object\n",
       " dtype: object, lat    object\n",
       " lon    object\n",
       " dtype: object)"
      ]
     },
     "execution_count": 22,
     "metadata": {},
     "output_type": "execute_result"
    }
   ],
   "source": [
    "data['inventor_location'].dtypes, data['inventor_lastknown_location'].dtypes"
   ]
  },
  {
   "cell_type": "code",
   "execution_count": 23,
   "metadata": {},
   "outputs": [
    {
     "data": {
      "text/plain": [
       "(148633, 148633)"
      ]
     },
     "execution_count": 23,
     "metadata": {},
     "output_type": "execute_result"
    }
   ],
   "source": [
    "len(data['inventor_location']), len(data['inventor_lastknown_location'])"
   ]
  },
  {
   "cell_type": "code",
   "execution_count": 24,
   "metadata": {},
   "outputs": [
    {
     "data": {
      "text/plain": [
       "(array([23, 23]), array([0, 0]), array([1154, 1154]))"
      ]
     },
     "execution_count": 24,
     "metadata": {},
     "output_type": "execute_result"
    }
   ],
   "source": [
    "sum(data['inventor_location'].values == None), sum(data['inventor_location'].values == float('nan')), sum(data['inventor_location'].values == '0.1')"
   ]
  },
  {
   "cell_type": "code",
   "execution_count": 25,
   "metadata": {},
   "outputs": [
    {
     "data": {
      "text/plain": [
       "(array([4, 4]), array([0, 0]), array([1110, 1110]))"
      ]
     },
     "execution_count": 25,
     "metadata": {},
     "output_type": "execute_result"
    }
   ],
   "source": [
    "sum(data['inventor_lastknown_location'].values == None), sum(data['inventor_lastknown_location'].values == float('nan')), sum(data['inventor_lastknown_location'].values == '0.1')"
   ]
  },
  {
   "cell_type": "markdown",
   "metadata": {},
   "source": [
    "Assuming that the missing values are non-overlapping between the `inventor_location` and `inventor_lastknown_location` dataframes, the upper bound on the proportion of missing data is here:"
   ]
  },
  {
   "cell_type": "code",
   "execution_count": 26,
   "metadata": {},
   "outputs": [
    {
     "data": {
      "text/plain": [
       "0.0154"
      ]
     },
     "execution_count": 26,
     "metadata": {},
     "output_type": "execute_result"
    }
   ],
   "source": [
    "no_data = sum(data['inventor_location'].values == None) + sum(data['inventor_location'].values == '0.1')\\\n",
    "        + sum(data['inventor_lastknown_location'].values == None) + sum(data['inventor_lastknown_location'].values == '0.1')\n",
    "\n",
    "round(no_data[0]/len(data['inventor_location']), 4)"
   ]
  },
  {
   "cell_type": "markdown",
   "metadata": {},
   "source": [
    "Coming back to the **NaN** count in the `assignee_type` dataframe, we look at the raw json data for these entries."
   ]
  },
  {
   "cell_type": "code",
   "execution_count": 27,
   "metadata": {},
   "outputs": [],
   "source": [
    "import json\n",
    "import numpy as np"
   ]
  },
  {
   "cell_type": "code",
   "execution_count": 28,
   "metadata": {},
   "outputs": [],
   "source": [
    "json_data = json.load(open(datafile))"
   ]
  },
  {
   "cell_type": "code",
   "execution_count": 29,
   "metadata": {},
   "outputs": [],
   "source": [
    "missing_location_data = []\n",
    "missing_assignee_type = {}\n",
    "\n",
    "for page in json_data:\n",
    "    for patent in json_data[page]['patents']:\n",
    "        for inventor in patent['inventors']:\n",
    "            if (inventor['inventor_latitude'] == None) or (inventor['inventor_latitude'] == '0.1'):\n",
    "                missing_location_data.append(patent['patent_number'])\n",
    "                \n",
    "            if (inventor['inventor_lastknown_latitude'] == None) or (inventor['inventor_lastknown_latitude'] == '0.1'):\n",
    "                missing_location_data.append(patent['patent_number'])\n",
    "\n",
    "        for assignee in patent['assignees']:\n",
    "            if (assignee['assignee_latitude'] == None) or (assignee['assignee_latitude'] == '0.1'):\n",
    "                missing_location_data.append(patent['patent_number'])\n",
    "                \n",
    "            if (assignee['assignee_type'] == None):\n",
    "                missing_assignee_type[patent['patent_number']] = assignee['assignee_organization']"
   ]
  },
  {
   "cell_type": "markdown",
   "metadata": {},
   "source": [
    "We look at how many patent_numbers are missing at least one location datapoint."
   ]
  },
  {
   "cell_type": "code",
   "execution_count": 30,
   "metadata": {},
   "outputs": [
    {
     "data": {
      "text/plain": [
       "6249"
      ]
     },
     "execution_count": 30,
     "metadata": {},
     "output_type": "execute_result"
    }
   ],
   "source": [
    "len(pd.DataFrame(index = missing_location_data).index.unique())"
   ]
  },
  {
   "cell_type": "markdown",
   "metadata": {},
   "source": [
    "It is only a minority of the data points in this dataset which have only one location data missing. The majority of the data which have location data missing have both inventors and assignees location missing. "
   ]
  },
  {
   "cell_type": "code",
   "execution_count": 31,
   "metadata": {},
   "outputs": [
    {
     "data": {
      "text/plain": [
       "4444"
      ]
     },
     "execution_count": 31,
     "metadata": {},
     "output_type": "execute_result"
    }
   ],
   "source": [
    "len(missing_assignee_type)"
   ]
  },
  {
   "cell_type": "markdown",
   "metadata": {},
   "source": [
    "We now **merge** the `patent_number` data for the `missing_location_data` points and the `missing_assignee_type` points, and we count the number of unique `patent_number`. "
   ]
  },
  {
   "cell_type": "code",
   "execution_count": 32,
   "metadata": {},
   "outputs": [
    {
     "data": {
      "text/plain": [
       "6249"
      ]
     },
     "execution_count": 32,
     "metadata": {},
     "output_type": "execute_result"
    }
   ],
   "source": [
    "len(pd.DataFrame(index = np.vstack([np.array(list(missing_assignee_type.keys()))[:,None], np.array(missing_location_data)[:,None]])).index.unique())"
   ]
  },
  {
   "cell_type": "markdown",
   "metadata": {},
   "source": [
    "From the above code, we observe that it is only **a single** datapoint that has no `assignee_type` but **does** have `location` data. For us, this is good news. It means that by omitting the data which has no `assignee_type`, we do not risk losing more information than necessary - because in any case, we have to omit the data for which there is no location, as that is the most crucial information for our purposes. \n",
    "\n",
    "### Entire analysis\n",
    "What is shown here is an example of the procedure that was followed to check the data. We went through it for random data samples spanning a few decades of data (one quarter year at a time). The results were all completely in line with the results shown above."
   ]
  },
  {
   "cell_type": "markdown",
   "metadata": {},
   "source": [
    "## Checking cleaned data"
   ]
  },
  {
   "cell_type": "code",
   "execution_count": 33,
   "metadata": {},
   "outputs": [],
   "source": [
    "from pipeline import data_clean"
   ]
  },
  {
   "cell_type": "code",
   "execution_count": 34,
   "metadata": {},
   "outputs": [],
   "source": [
    "data = data_clean(datafile)"
   ]
  },
  {
   "cell_type": "code",
   "execution_count": 35,
   "metadata": {},
   "outputs": [
    {
     "data": {
      "text/plain": [
       "dict_keys(['assignees', 'inventors', 'patents', 'citations'])"
      ]
     },
     "execution_count": 35,
     "metadata": {},
     "output_type": "execute_result"
    }
   ],
   "source": [
    "data.keys()"
   ]
  },
  {
   "cell_type": "code",
   "execution_count": 36,
   "metadata": {},
   "outputs": [
    {
     "data": {
      "text/html": [
       "<div>\n",
       "<style scoped>\n",
       "    .dataframe tbody tr th:only-of-type {\n",
       "        vertical-align: middle;\n",
       "    }\n",
       "\n",
       "    .dataframe tbody tr th {\n",
       "        vertical-align: top;\n",
       "    }\n",
       "\n",
       "    .dataframe thead th {\n",
       "        text-align: right;\n",
       "    }\n",
       "</style>\n",
       "<table border=\"1\" class=\"dataframe\">\n",
       "  <thead>\n",
       "    <tr style=\"text-align: right;\">\n",
       "      <th></th>\n",
       "      <th>type</th>\n",
       "      <th>organization</th>\n",
       "      <th>location</th>\n",
       "    </tr>\n",
       "  </thead>\n",
       "  <tbody>\n",
       "    <tr>\n",
       "      <th>221223</th>\n",
       "      <td>2</td>\n",
       "      <td>MACNEIL IP LLC</td>\n",
       "      <td>(41.6986, -88.0684)</td>\n",
       "    </tr>\n",
       "    <tr>\n",
       "      <th>110443</th>\n",
       "      <td>3</td>\n",
       "      <td>Spanolux N.V.-Div. Balterio</td>\n",
       "      <td>(50.9099, 3.3737)</td>\n",
       "    </tr>\n",
       "    <tr>\n",
       "      <th>243235</th>\n",
       "      <td>3</td>\n",
       "      <td>PHIL AND TEDS MOST EXCELLENT BUGGY COMPANY LIM...</td>\n",
       "      <td>(-36.8575, 174.81)</td>\n",
       "    </tr>\n",
       "    <tr>\n",
       "      <th>90072</th>\n",
       "      <td>2</td>\n",
       "      <td>Carestream Health, Inc.</td>\n",
       "      <td>(43.1566, -77.6088)</td>\n",
       "    </tr>\n",
       "    <tr>\n",
       "      <th>351314</th>\n",
       "      <td>2</td>\n",
       "      <td>Intelius Inc.</td>\n",
       "      <td>(33.7484, -117.875)</td>\n",
       "    </tr>\n",
       "  </tbody>\n",
       "</table>\n",
       "</div>"
      ],
      "text/plain": [
       "       type                                       organization  \\\n",
       "221223    2                                     MACNEIL IP LLC   \n",
       "110443    3                        Spanolux N.V.-Div. Balterio   \n",
       "243235    3  PHIL AND TEDS MOST EXCELLENT BUGGY COMPANY LIM...   \n",
       "90072     2                            Carestream Health, Inc.   \n",
       "351314    2                                      Intelius Inc.   \n",
       "\n",
       "                   location  \n",
       "221223  (41.6986, -88.0684)  \n",
       "110443    (50.9099, 3.3737)  \n",
       "243235   (-36.8575, 174.81)  \n",
       "90072   (43.1566, -77.6088)  \n",
       "351314  (33.7484, -117.875)  "
      ]
     },
     "execution_count": 36,
     "metadata": {},
     "output_type": "execute_result"
    }
   ],
   "source": [
    "data['assignees'].head()"
   ]
  },
  {
   "cell_type": "code",
   "execution_count": 37,
   "metadata": {},
   "outputs": [
    {
     "data": {
      "text/html": [
       "<div>\n",
       "<style scoped>\n",
       "    .dataframe tbody tr th:only-of-type {\n",
       "        vertical-align: middle;\n",
       "    }\n",
       "\n",
       "    .dataframe tbody tr th {\n",
       "        vertical-align: top;\n",
       "    }\n",
       "\n",
       "    .dataframe thead th {\n",
       "        text-align: right;\n",
       "    }\n",
       "</style>\n",
       "<table border=\"1\" class=\"dataframe\">\n",
       "  <thead>\n",
       "    <tr style=\"text-align: right;\">\n",
       "      <th></th>\n",
       "      <th>location</th>\n",
       "      <th>last_location</th>\n",
       "    </tr>\n",
       "  </thead>\n",
       "  <tbody>\n",
       "    <tr>\n",
       "      <th>1291628</th>\n",
       "      <td>(41.8009, -87.937)</td>\n",
       "      <td>(26.0571, -80.2507)</td>\n",
       "    </tr>\n",
       "    <tr>\n",
       "      <th>2236915</th>\n",
       "      <td>(42.1878, -88.183)</td>\n",
       "      <td>(42.1878, -88.183)</td>\n",
       "    </tr>\n",
       "    <tr>\n",
       "      <th>2679416</th>\n",
       "      <td>(51.0951, 5.7913)</td>\n",
       "      <td>(51.0951, 5.7913)</td>\n",
       "    </tr>\n",
       "    <tr>\n",
       "      <th>2679417</th>\n",
       "      <td>(50.7707, 3.8752)</td>\n",
       "      <td>(50.7707, 3.8752)</td>\n",
       "    </tr>\n",
       "    <tr>\n",
       "      <th>1889088</th>\n",
       "      <td>(40.8768, -73.3246)</td>\n",
       "      <td>(40.8768, -73.3246)</td>\n",
       "    </tr>\n",
       "  </tbody>\n",
       "</table>\n",
       "</div>"
      ],
      "text/plain": [
       "                    location        last_location\n",
       "1291628   (41.8009, -87.937)  (26.0571, -80.2507)\n",
       "2236915   (42.1878, -88.183)   (42.1878, -88.183)\n",
       "2679416    (51.0951, 5.7913)    (51.0951, 5.7913)\n",
       "2679417    (50.7707, 3.8752)    (50.7707, 3.8752)\n",
       "1889088  (40.8768, -73.3246)  (40.8768, -73.3246)"
      ]
     },
     "execution_count": 37,
     "metadata": {},
     "output_type": "execute_result"
    }
   ],
   "source": [
    "data['inventors'].head()"
   ]
  },
  {
   "cell_type": "code",
   "execution_count": 38,
   "metadata": {},
   "outputs": [
    {
     "data": {
      "text/html": [
       "<div>\n",
       "<style scoped>\n",
       "    .dataframe tbody tr th:only-of-type {\n",
       "        vertical-align: middle;\n",
       "    }\n",
       "\n",
       "    .dataframe tbody tr th {\n",
       "        vertical-align: top;\n",
       "    }\n",
       "\n",
       "    .dataframe thead th {\n",
       "        text-align: right;\n",
       "    }\n",
       "</style>\n",
       "<table border=\"1\" class=\"dataframe\">\n",
       "  <thead>\n",
       "    <tr style=\"text-align: right;\">\n",
       "      <th></th>\n",
       "      <th>assignees</th>\n",
       "      <th>date</th>\n",
       "      <th>inventors</th>\n",
       "      <th>type</th>\n",
       "    </tr>\n",
       "  </thead>\n",
       "  <tbody>\n",
       "    <tr>\n",
       "      <th>8997419</th>\n",
       "      <td>[221223]</td>\n",
       "      <td>2015-01-27</td>\n",
       "      <td>[1291628, 2236915]</td>\n",
       "      <td>utility</td>\n",
       "    </tr>\n",
       "    <tr>\n",
       "      <th>8997430</th>\n",
       "      <td>[110443]</td>\n",
       "      <td>2015-01-07</td>\n",
       "      <td>[2679416, 2679417]</td>\n",
       "      <td>utility</td>\n",
       "    </tr>\n",
       "    <tr>\n",
       "      <th>9002934</th>\n",
       "      <td>[]</td>\n",
       "      <td>2015-01-05</td>\n",
       "      <td>[1889088]</td>\n",
       "      <td>utility</td>\n",
       "    </tr>\n",
       "    <tr>\n",
       "      <th>9004524</th>\n",
       "      <td>[243235]</td>\n",
       "      <td>2015-01-15</td>\n",
       "      <td>[2767897, 2767898]</td>\n",
       "      <td>utility</td>\n",
       "    </tr>\n",
       "    <tr>\n",
       "      <th>9005554</th>\n",
       "      <td>[]</td>\n",
       "      <td>2015-01-12</td>\n",
       "      <td>[298359]</td>\n",
       "      <td>utility</td>\n",
       "    </tr>\n",
       "  </tbody>\n",
       "</table>\n",
       "</div>"
      ],
      "text/plain": [
       "        assignees        date           inventors     type\n",
       "8997419  [221223]  2015-01-27  [1291628, 2236915]  utility\n",
       "8997430  [110443]  2015-01-07  [2679416, 2679417]  utility\n",
       "9002934        []  2015-01-05           [1889088]  utility\n",
       "9004524  [243235]  2015-01-15  [2767897, 2767898]  utility\n",
       "9005554        []  2015-01-12            [298359]  utility"
      ]
     },
     "execution_count": 38,
     "metadata": {},
     "output_type": "execute_result"
    }
   ],
   "source": [
    "data['patents'].head()"
   ]
  },
  {
   "cell_type": "code",
   "execution_count": 39,
   "metadata": {},
   "outputs": [
    {
     "data": {
      "text/html": [
       "<div>\n",
       "<style scoped>\n",
       "    .dataframe tbody tr th:only-of-type {\n",
       "        vertical-align: middle;\n",
       "    }\n",
       "\n",
       "    .dataframe tbody tr th {\n",
       "        vertical-align: top;\n",
       "    }\n",
       "\n",
       "    .dataframe thead th {\n",
       "        text-align: right;\n",
       "    }\n",
       "</style>\n",
       "<table border=\"1\" class=\"dataframe\">\n",
       "  <thead>\n",
       "    <tr style=\"text-align: right;\">\n",
       "      <th></th>\n",
       "      <th>count</th>\n",
       "    </tr>\n",
       "  </thead>\n",
       "  <tbody>\n",
       "    <tr>\n",
       "      <th>7674650</th>\n",
       "      <td>127</td>\n",
       "    </tr>\n",
       "    <tr>\n",
       "      <th>7732819</th>\n",
       "      <td>124</td>\n",
       "    </tr>\n",
       "    <tr>\n",
       "      <th>7297977</th>\n",
       "      <td>123</td>\n",
       "    </tr>\n",
       "    <tr>\n",
       "      <th>6294274</th>\n",
       "      <td>123</td>\n",
       "    </tr>\n",
       "    <tr>\n",
       "      <th>7282782</th>\n",
       "      <td>123</td>\n",
       "    </tr>\n",
       "  </tbody>\n",
       "</table>\n",
       "</div>"
      ],
      "text/plain": [
       "         count\n",
       "7674650    127\n",
       "7732819    124\n",
       "7297977    123\n",
       "6294274    123\n",
       "7282782    123"
      ]
     },
     "execution_count": 39,
     "metadata": {},
     "output_type": "execute_result"
    }
   ],
   "source": [
    "data['citations'].head()"
   ]
  }
 ],
 "metadata": {
  "kernelspec": {
   "display_name": "Python [conda env:ada]",
   "language": "python",
   "name": "conda-env-ada-py"
  },
  "language_info": {
   "codemirror_mode": {
    "name": "ipython",
    "version": 3
   },
   "file_extension": ".py",
   "mimetype": "text/x-python",
   "name": "python",
   "nbconvert_exporter": "python",
   "pygments_lexer": "ipython3",
   "version": "3.6.6"
  }
 },
 "nbformat": 4,
 "nbformat_minor": 2
}
