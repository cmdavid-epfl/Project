{
 "cells": [
  {
   "cell_type": "markdown",
   "metadata": {},
   "source": [
    "# Data Story Outline\n",
    "\n",
    "## Part 1. The Big Picture\n",
    "\n",
    "In this first part, we answer the following questions:\n",
    "- What does the typical patent-holder look like today, and how has that evolved between today and the 1990's?\n",
    "- Is a migration of innovators through time visible in the data, e.g. a convergence towards certain innovation centers?\n",
    "- How has the number of assignees and inventors evolved in this period?\n",
    "\n",
    "### <mark>Approach (TO ADJUST) </mark>\n",
    "\n",
    "- Question 1 can be a natural way to progress after e.g. a short introduction about patents itself, providing the reader with insight into the main sources of patent creation as well as the potentially historic overview of the same metric.  \n",
    "- Q1.1 focuses on how data evolves through time from a geographic standpoint, and using  maps to visualize the migration could be a good approach. Below (Q2) interactive graphs are discussed and this could be one alternative here as well. \n",
    "    - One approach is to use several maps from ascending chronological periods of time where the reader could see if patterns of innovation centers emerge\n",
    "    - Another approach could be an interactive chart that enables toggling between different time periods by the reader, enabling comparison by using a single map.\n",
    "- Q1.2. can potentially provide a good segway into what we brought up in the Project's abstract: _\"While innovation is often portrayed as the product of either one charismatic leader - or a ragtag team of geniuses - in reality we suspect that innovations, however important, happen in small steps supported by large networks of people.\"_\n",
    "    - This will also be addressed in more detail in research question 2.\n",
    "    - Various barplots or line plots could provide helpful tools for answering the first part of the question, while the same tools might also be an initial way to approach the second part, after segmenting the data into geographies. Maps could also be explored here.\n",
    "    \n",
    "\n",
    "## Part 2. Peeling back the layers\n",
    "\n",
    "In this second part, we look at the following examples of innovation networks for specific patents held by the following specific assignees:\n",
    "- companies : \n",
    "  - patents :\n",
    "- academic institutions :\n",
    "  - patents :\n",
    "- governments :\n",
    "  - patents :\n",
    "\n",
    "By looking at these networks, we answer the following questions:\n",
    "- If we take a few different types of companies / government bodies / academic institutions, and look at the network supporting some of their patents, what do these networks look like, in light of the networks seen in Part 1?\n",
    "- Within the same companies, how have their networks evolved between today and the 1990's, if we look at patents similar to those above?\n",
    "- Across companies of the same type, to what extent, if any, will their networks be similar?\n",
    "\n",
    "While the **data gathering** and **data preprocessing** were done mostly in parallel and in an interative fashion, for simplicity we nonetheless start by presenting the data gathering part and we then present the data preprocessing, both as in their final iteration. \n",
    "\n",
    "### <mark>Approach (TO ADJUST)</mark>\n",
    "\n",
    "- For the geographically focused research question, a natural approach can be to explore the data using maps to visualize e.g. the innovation networks.  \n",
    "- In HW2 we worked with **Folium**, which can be one interesting tool here, as we have access to clean longitude- and latitude data (see preprocessing.ipynb). Folium has e.g. cluster-functionality, which could be a way to quantify the magnitude of the networks in different geographic zones. \n",
    "    - Folium also gives us the option to add interactivity.\n",
    "- To represent networks, an alternative could be to use a graph-based approach, where relationships between entities within a network could be represented by nodes and edges. The Python library **networkx**, which enables the creation of Network Graphs, is one option. \n",
    "    - Network representations could also be relevant to answer question 2.2, when exploring the citation of patents from similar companies. \n",
    "- Throughout the data story, the usage of **interactive graphs** could be particularly efficient in making the plots self-sufficient and to invite exploration by the reader. Adding the element of time can enable comparing the development of innovation networks, and by hovering over parts of the map the reader can obtain more detailed information. \n",
    "    - The Python library **HoloViews** can, alongside networkx, enable the creation of interactive network graphs. \n",
    "    - Another interactive visualization library to explore is **Bokeh**.\n",
    "- Questions Q2.1-2. could provide tangible examples for how prevalent (or not) patent networks are for well-known companies.\n",
    "- By following these results with those of questions Q2.3-4 we believe it could provide a good overview into the similarities and/or differences between the three major categories of organizations (academia, non-governmental and governmental organizations), hence being of interest to readers within various field, and also (hopefully) providing input to our peers (students) that might be interested in research and innovation, and that might contemplate various possible tracks for their careers.  \n",
    "\n",
    "In summary, the visualization techniques, as well as the amount of interactivity to add, if any, we decide upon will have a big impact on the quality of the data story. This latter is intended to be eventually recounted on a website spitted out by Jekyll, a static site generator."
   ]
  },
  {
   "cell_type": "markdown",
   "metadata": {},
   "source": [
    "# Data Gathering"
   ]
  },
  {
   "cell_type": "markdown",
   "metadata": {},
   "source": [
    "## PatentsView Database"
   ]
  },
  {
   "cell_type": "markdown",
   "metadata": {},
   "source": [
    "The database offers a wide range of features for all patents since 1976, which can be extracted through their API. \n",
    "\n",
    "The most relevant documentation can be found here:\n",
    "- [Query Language Documentation](http://www.patentsview.org/api/query-language.html)\n",
    "- [Field List](http://www.patentsview.org/api/patent.html)\n",
    "\n",
    "For each research question, we came up with a list of required output **fields** which the API calls needed to return, as well as a list of input **filters** that limit the amount of extra pre-processing we had to do, while at the same time providing us with all the information necessary for us to cover the topics listed in the first section.\n",
    "\n",
    "The complete list of **fields** is as follows:\n",
    "- **Part 1**. For each patent in a given timeframe, we need:\n",
    "  - `cited_patent_number`: Patent number of the cited patents.\n",
    "  - `inventor_latitude`: Latitude of all the inventors as listed on the selected patent.\n",
    "  - `inventor_longitude`: Longitude of all the inventors as listed on the selected patent.\n",
    "  - `patent_type`: Category of patent (see below).\n",
    "  - `assignee_organization`: Organization name, if assignee is organization.\n",
    "  - `assignee_type`: Classification of assignee (see below).\n",
    "\n",
    "- For **Part 2**, the list is the same, with the exception of the last two items, which are not needed for the second part. \n",
    "\n",
    "The `assignee_type` field allows us to have a good picture of the typical patent rights holder. The `assignee_type` categories are as follows:\n",
    "- '2': US company or corporation\n",
    "- '3': foreign company or corporation\n",
    "- '4': US individual\n",
    "- '5': foreign individual\n",
    "- '6': US government\n",
    "- '7': foreign government\n",
    "- '8': country government\n",
    "- '9': US state governement\n",
    "- '1x': part interest\n",
    "\n",
    "As well, the reason for including the `patent_type` field is that we want to be able to distinguish between major patent categories:\n",
    "- 'Defensive Publication': \"... an intellectual property strategy used to prevent another party from obtaining a patent on a product, apparatus or method for instance.\" ( [wikipedia](https://en.wikipedia.org/wiki/Defensive_publication) )\n",
    "- 'Design': \"... legal protection granted to the ornamental design of a functional item\" ( [wikipedia](https://en.wikipedia.org/wiki/Design_patent) )\n",
    "- 'Plant': covering any \"new variety of plant\" ( [wikipedia](https://en.wikipedia.org/wiki/Plant_breeders'_rights) )\n",
    "- 'Reissue': correction of \"a significant error in an already issued patent\" ( [uslegal](https://definitions.uslegal.com/r/reissue-patent/) )\n",
    "- 'Statutory Invention Registration': \"for publishing patent applications on which they no longer felt they could get patents\" ( [wikipedia](https://en.wikipedia.org/wiki/United_States_Statutory_Invention_Registration) )\n",
    "- 'Utility': patent for a \"useful\" patent ( [wikipedia](https://en.wikipedia.org/wiki/Utility_(patent)) )\n",
    "\n",
    "**Utility patents** are the most relevant for us. They are patents protecting \"any new and useful process, machine, manufacture, or composition of matter, or any new and useful improvement thereof\" ( [U.S. Code § 101](https://www.law.cornell.edu/uscode/text/35/101) ) We do chose to exclude the **reissue** patent type from our results, as they are not truly innovations, but only corrections on already issued patents. This category is thus omitted directly when calling the API.\n",
    "\n",
    "We chose to query for the **latitudes** and **longitudes** instead of the location in the format city-state-country, as the former data are more useful for visualization purposes. Furthermore, during our preliminary data analysis, the data in the city-state-country format was not uniform (i.e., some cities were named in full, while others were abbreviated in different ways). On the other hand, the latitudes and longitudes data is uniform, and the missing data is also easier to clean than with names format.\n",
    "\n",
    "We also needed to be able to query for patents based on the following **filters**:\n",
    "- `patent_number`: US Patent number, as assigned by USPTO.\n",
    "- `app_date`: Date the patent application was filed (filing date)\n",
    "\n",
    "For the purposes of situating in time the patent data we have, we chose to consider the date at which the patent application was filed, instead of the date at which it was granted. The reasoning behind this choice is that at the time of the patent application, the innovation supporting it already exists. So while using the application date will most probably reduce the amount of most-recent data we can work with, in our opinion it will paint a more vivid picture of innovation. Furthermore, as our analysis is performed on data spanning a few decades, we're confident this choice will not be detremental to our story. "
   ]
  },
  {
   "cell_type": "markdown",
   "metadata": {},
   "source": [
    "## Working with the PatentsView API"
   ]
  },
  {
   "cell_type": "markdown",
   "metadata": {},
   "source": [
    "While the **PatentsView API** made it easy to extract data, the usage limits meant we had to implement the following functions to automate the incremental extraction and saving of all the data we needed.\n",
    "\n",
    "**As the maximum number of results per query is 10,000 per page, capped at 10 pages, in order to avoid hitting the limit, as a rule of thumb, if we are querying for all patent applications in a given date range, we need to keep the date range to about quarter of a year.**\n",
    "\n",
    "The following implemented functions can be found in the **[pipeline.py](https://github.com/cmdavid-epfl/Project/blob/master/pipeline.py)** module.\n",
    "\n",
    "- **patentsviewAPI**: puts together the query string, the output fields string and the options string, and then extracts and saves the data returned by the PatentsView API in json format. The following functions are called by **patentsviewAPI**\n",
    "  - query: \n",
    "  - get_data :\n",
    "  \n",
    "The saved json data is of the following format:\n",
    "\n",
    "- page number in format '1', '2', ...\n",
    "  - 'patents': list of patents in page. For each patent:\n",
    "    - 'patent_type'\n",
    "    - 'inventors' : list of inventors listed for the patent. For each inventor:\n",
    "      - 'inventor_key_id'\n",
    "      - 'inventor_latitude'\n",
    "      - 'inventor_longitude'\n",
    "    - 'assignees': list of assignees listed for the patent. For each assignee:\n",
    "      - 'assignee_key_id'\n",
    "      - 'assignee_organization'\n",
    "      - 'assignee_type'\n",
    "    - 'cited_patents' : list of other patents cited by the current patent. For each cited patent:\n",
    "      - 'cited_patent_number'\n",
    "  - 'count': number of results in the page\n",
    "  - 'total_patent_count': total number of patents referenced in the results  \n"
   ]
  },
  {
   "cell_type": "markdown",
   "metadata": {},
   "source": [
    "# Data Preprocessing"
   ]
  },
  {
   "cell_type": "markdown",
   "metadata": {},
   "source": [
    "## Part 1.\n",
    "\n",
    "The following functions in the **pipeline** module are specifically for the first part:\n",
    "- **load_data**: converts the saved jsondata from the PatentsView API to the format that is most useful in answering the research topics (see below), by calling on the following functions:\n",
    "  - get_full_year_data :\n",
    "  - (load_)preprocess_data :\n",
    "\n",
    "The preprocessed data has the following structure:\n",
    "\n",
    "\n",
    "\n",
    "\n",
    "- get_ts :"
   ]
  },
  {
   "cell_type": "code",
   "execution_count": null,
   "metadata": {},
   "outputs": [],
   "source": [
    "from pipeline import load_data, get_ts"
   ]
  },
  {
   "cell_type": "code",
   "execution_count": 1,
   "metadata": {},
   "outputs": [],
   "source": [
    "MY_PATH = '/media/dcm/HDD/ADA_DATA'\n",
    "MIN_YEAR = 1990\n",
    "MAX_YEAR = 2016\n",
    "year_range = range(MIN_YEAR,MAX_YEAR + 1)"
   ]
  },
  {
   "cell_type": "markdown",
   "metadata": {},
   "source": [
    "**Running this next line for the full time range (1990-2016), if no data is yet saved to disk, will take a few hours**"
   ]
  },
  {
   "cell_type": "code",
   "execution_count": null,
   "metadata": {},
   "outputs": [],
   "source": [
    "full_year_data = load_data(year_range, MY_PATH)"
   ]
  },
  {
   "cell_type": "code",
   "execution_count": null,
   "metadata": {},
   "outputs": [],
   "source": []
  },
  {
   "cell_type": "code",
   "execution_count": null,
   "metadata": {},
   "outputs": [],
   "source": []
  },
  {
   "cell_type": "markdown",
   "metadata": {},
   "source": [
    "## Part 2.\n",
    "\n",
    "The functions to get the data for part 2 are:\n",
    "- load_layers(_data) :\n",
    "  - get_layers_data :\n",
    "    - get_cited_patents_data :\n",
    "    - preprocess_layer_data :"
   ]
  },
  {
   "cell_type": "code",
   "execution_count": 2,
   "metadata": {},
   "outputs": [],
   "source": [
    "from pipeline import load_layers_data"
   ]
  },
  {
   "cell_type": "code",
   "execution_count": 3,
   "metadata": {},
   "outputs": [
    {
     "name": "stdout",
     "output_type": "stream",
     "text": [
      "/media/dcm/HDD/ADA_DATA Apple_layer0.json\n",
      "already on file\n",
      "/media/dcm/HDD/ADA_DATA Apple_layer1.json\n",
      "already on file\n",
      "/media/dcm/HDD/ADA_DATA Apple_layer2.json\n",
      "already on file\n",
      "/media/dcm/HDD/ADA_DATA Apple_layer3.json\n",
      "already on file\n",
      "saving data\n"
     ]
    }
   ],
   "source": [
    "apple_example_data = load_layers_data(filename = 'Apple', patent_number = ['9430098'], layers = 4, data_dir = MY_PATH)"
   ]
  },
  {
   "cell_type": "code",
   "execution_count": 4,
   "metadata": {},
   "outputs": [
    {
     "data": {
      "text/plain": [
       "{'cited_patents': ['7345677', '8477463'],\n",
       " 'inventors':          latitude  longitude\n",
       " 1221243   37.9476   -122.525\n",
       " 3146580   33.6846   -117.826\n",
       " 3317742   37.3852   -122.114}"
      ]
     },
     "execution_count": 4,
     "metadata": {},
     "output_type": "execute_result"
    }
   ],
   "source": [
    "apple_example_data['0']"
   ]
  },
  {
   "cell_type": "code",
   "execution_count": 5,
   "metadata": {},
   "outputs": [
    {
     "data": {
      "text/plain": [
       "{'cited_patents': ['4317227',\n",
       "  '5059959',\n",
       "  '5194852',\n",
       "  '5404458',\n",
       "  '5412189',\n",
       "  '5628031',\n",
       "  '5638093',\n",
       "  '5691959',\n",
       "  '5717432',\n",
       "  '5856820',\n",
       "  '5986224',\n",
       "  '6161434',\n",
       "  '6167165',\n",
       "  '6404353',\n",
       "  '6549193',\n",
       "  '6555235',\n",
       "  '6724373',\n",
       "  '6738051',\n",
       "  '6891527',\n",
       "  '5152401'],\n",
       " 'inventors':          latitude  longitude\n",
       " 1878402   48.8638    2.44845\n",
       " 2212351   48.8566    2.35222\n",
       " 2212352   48.8566    2.35222\n",
       " 2824276   13.0423   77.61360\n",
       " 503175    48.8130    2.23847}"
      ]
     },
     "execution_count": 5,
     "metadata": {},
     "output_type": "execute_result"
    }
   ],
   "source": [
    "apple_example_data['1']"
   ]
  },
  {
   "cell_type": "markdown",
   "metadata": {},
   "source": [
    "# Visualizations"
   ]
  },
  {
   "cell_type": "markdown",
   "metadata": {},
   "source": [
    "## Part 1."
   ]
  },
  {
   "cell_type": "code",
   "execution_count": null,
   "metadata": {},
   "outputs": [],
   "source": [
    "from visualizations import get_png, get_timeseries_fig"
   ]
  },
  {
   "cell_type": "code",
   "execution_count": null,
   "metadata": {},
   "outputs": [],
   "source": [
    "# Whole World\n",
    "for year in year_range:\n",
    "    get_png(full_year_data,'All',year)"
   ]
  },
  {
   "cell_type": "code",
   "execution_count": null,
   "metadata": {},
   "outputs": [],
   "source": [
    "# Asia\n",
    "for year in year_range:\n",
    "    get_png(full_year_data,'All',year, zoom_on = (25,120,3.5))"
   ]
  },
  {
   "cell_type": "code",
   "execution_count": null,
   "metadata": {},
   "outputs": [],
   "source": [
    "# Europe\n",
    "for year in year_range:\n",
    "    get_png(full_year_data,'All',year, zoom_on = (53,18,3.5))"
   ]
  },
  {
   "cell_type": "code",
   "execution_count": null,
   "metadata": {},
   "outputs": [],
   "source": [
    "# US\n",
    "for year in year_range:\n",
    "    get_png(full_year_data,'All',year, zoom_on = (40,-90,3.5))"
   ]
  },
  {
   "cell_type": "code",
   "execution_count": null,
   "metadata": {},
   "outputs": [],
   "source": [
    "# Top 10 Assignees US, Non-US\n",
    "num_inventors_top10_us = []\n",
    "num_inventors_top10_nonus = []\n",
    "\n",
    "for year in year_range:\n",
    "    num_inventors_top10_us.append(get_png(full_year_data,'US Assignees',year, k = 10))\n",
    "    num_inventors_top10_nonus.append(get_png(full_year_data,'Non-US Assignees'),year, k = 10)"
   ]
  },
  {
   "cell_type": "code",
   "execution_count": null,
   "metadata": {},
   "outputs": [],
   "source": [
    "# time series figure\n",
    "get_timeseries_fig(full_year_data, year_range, np.array(num_inventors_top10_us) / 1000, \n",
    "                   np.array(num_inventors_top10_nonus) / 1000)"
   ]
  },
  {
   "cell_type": "markdown",
   "metadata": {},
   "source": [
    "## Part 2."
   ]
  },
  {
   "cell_type": "code",
   "execution_count": 6,
   "metadata": {},
   "outputs": [],
   "source": [
    "from visualizations import save_layers"
   ]
  },
  {
   "cell_type": "code",
   "execution_count": 9,
   "metadata": {},
   "outputs": [],
   "source": [
    "save_layers(apple_example_data, 'apple', zoom_on = None, layered = True)"
   ]
  },
  {
   "cell_type": "code",
   "execution_count": null,
   "metadata": {},
   "outputs": [],
   "source": []
  }
 ],
 "metadata": {
  "kernelspec": {
   "display_name": "Python [conda env:ada]",
   "language": "python",
   "name": "conda-env-ada-py"
  },
  "language_info": {
   "codemirror_mode": {
    "name": "ipython",
    "version": 3
   },
   "file_extension": ".py",
   "mimetype": "text/x-python",
   "name": "python",
   "nbconvert_exporter": "python",
   "pygments_lexer": "ipython3",
   "version": "3.6.6"
  }
 },
 "nbformat": 4,
 "nbformat_minor": 2
}
