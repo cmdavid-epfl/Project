{
 "cells": [
  {
   "cell_type": "markdown",
   "metadata": {},
   "source": [
    "## Motivation\n",
    "\n",
    "- The purpose of this part is to present an initial outline for the tools that can help us in the creation of the Data Story, based on the work done thus far. \n",
    "- By iteratively updating, and keeping the outline in mind, we believe it will help us to reflect around how we can present our results in an effective manner throughout the data analysis pipeline. This approach will allow us to keep an open mind to finding new insights throughout the project.  \n",
    "- On the other hand, being conscious of the data story can also enable us to be more structured in our data analysis process, by developing the story we want to tell and finding the data that can support it. \n",
    "\n",
    "## Structure\n",
    "- The initial outline will be focused on how we could approach communicating the results for the research questions as well as a first outline for in which order it could be natural to present them. \n",
    "- Further iterations will aim at becoming more and more focused on creating a coherent story, that is following a well thought-through order to improve readability."
   ]
  },
  {
   "cell_type": "markdown",
   "metadata": {},
   "source": [
    "### Q1/ What does the typical patent-holder look like today (Corporation, Universities, Governments, Individuals), and how has that evolved throughout time / geographies?\n",
    "_Q1.1/ Is a migration of innovators through time visible in the data, e.g. a convergence towards certain innovation centers?  \n",
    "Q1.2 / How has the number of assignees and inventors evolved through time for different patent types? Are there significant differences in these numbers between different geographies?_  "
   ]
  },
  {
   "cell_type": "markdown",
   "metadata": {},
   "source": [
    "Get all the patents data for the year 2016."
   ]
  },
  {
   "cell_type": "code",
   "execution_count": 232,
   "metadata": {},
   "outputs": [
    {
     "data": {
      "text/plain": [
       "<module 'pipeline' from '/media/dcm/HDD/Documents/EPFL/Project/pipeline.py'>"
      ]
     },
     "execution_count": 232,
     "metadata": {},
     "output_type": "execute_result"
    }
   ],
   "source": [
    "from importlib import reload\n",
    "import pipeline\n",
    "reload(pipeline)"
   ]
  },
  {
   "cell_type": "code",
   "execution_count": 233,
   "metadata": {},
   "outputs": [],
   "source": [
    "from __future__ import print_function"
   ]
  },
  {
   "cell_type": "code",
   "execution_count": 234,
   "metadata": {},
   "outputs": [],
   "source": [
    "# data processing\n",
    "import pandas as pd\n",
    "import numpy as np\n",
    "from pipeline import get_full_year_data, load_preprocessed_data, get_layers_data, load_layers\n",
    "import time\n",
    "\n",
    "# visualizations\n",
    "import matplotlib.pyplot as plt\n",
    "import matplotlib.gridspec as gridspec\n",
    "from ipywidgets import interact, interactive, fixed, interact_manual\n",
    "import ipywidgets as widgets"
   ]
  },
  {
   "cell_type": "markdown",
   "metadata": {},
   "source": [
    "**Define path to save all data files**"
   ]
  },
  {
   "cell_type": "code",
   "execution_count": 235,
   "metadata": {},
   "outputs": [],
   "source": [
    "MY_PATH = '/media/dcm/HDD/ADA_DATA'"
   ]
  },
  {
   "cell_type": "markdown",
   "metadata": {},
   "source": [
    "**Getting data for Q1**"
   ]
  },
  {
   "cell_type": "code",
   "execution_count": 236,
   "metadata": {},
   "outputs": [
    {
     "name": "stdout",
     "output_type": "stream",
     "text": [
      "/media/dcm/HDD/ADA_DATA 2000q1\n",
      "already on file\n",
      "/media/dcm/HDD/ADA_DATA 2000q2\n",
      "already on file\n",
      "/media/dcm/HDD/ADA_DATA 2000q3\n",
      "already on file\n",
      "/media/dcm/HDD/ADA_DATA 2000q4\n",
      "already on file\n",
      "/media/dcm/HDD/ADA_DATA 2001q1\n",
      "already on file\n",
      "/media/dcm/HDD/ADA_DATA 2001q2\n",
      "already on file\n",
      "/media/dcm/HDD/ADA_DATA 2001q3\n",
      "already on file\n",
      "/media/dcm/HDD/ADA_DATA 2001q4\n",
      "already on file\n",
      "/media/dcm/HDD/ADA_DATA 2002q1\n",
      "already on file\n",
      "/media/dcm/HDD/ADA_DATA 2002q2\n",
      "already on file\n",
      "/media/dcm/HDD/ADA_DATA 2002q3\n",
      "already on file\n",
      "/media/dcm/HDD/ADA_DATA 2002q4\n",
      "already on file\n",
      "/media/dcm/HDD/ADA_DATA 2003q1\n",
      "already on file\n",
      "/media/dcm/HDD/ADA_DATA 2003q2\n",
      "already on file\n",
      "/media/dcm/HDD/ADA_DATA 2003q3\n",
      "already on file\n",
      "/media/dcm/HDD/ADA_DATA 2003q4\n",
      "already on file\n"
     ]
    }
   ],
   "source": [
    "full_datafile_lists = {}\n",
    "full_year_data = {}\n",
    "year_range = range(2000,2003 + 1)\n",
    "\n",
    "for year in year_range:\n",
    "    full_datafile_lists[str(year)] = get_full_year_data(str(year), MY_PATH)"
   ]
  },
  {
   "cell_type": "code",
   "execution_count": 237,
   "metadata": {},
   "outputs": [],
   "source": [
    "for year in year_range:\n",
    "    full_year_data[str(year)] = load_preprocessed_data(full_datafile_lists[str(year)])"
   ]
  },
  {
   "cell_type": "markdown",
   "metadata": {},
   "source": [
    "**Checking data**"
   ]
  },
  {
   "cell_type": "code",
   "execution_count": 238,
   "metadata": {},
   "outputs": [
    {
     "data": {
      "text/plain": [
       "(213994, 2907672, 301109)"
      ]
     },
     "execution_count": 238,
     "metadata": {},
     "output_type": "execute_result"
    }
   ],
   "source": [
    "full_year_data['2000']['num_patents'], full_year_data['2000']['num_citations'], full_year_data['2000']['num_inventors']  "
   ]
  },
  {
   "cell_type": "code",
   "execution_count": 239,
   "metadata": {},
   "outputs": [
    {
     "data": {
      "text/html": [
       "<div>\n",
       "<style scoped>\n",
       "    .dataframe tbody tr th:only-of-type {\n",
       "        vertical-align: middle;\n",
       "    }\n",
       "\n",
       "    .dataframe tbody tr th {\n",
       "        vertical-align: top;\n",
       "    }\n",
       "\n",
       "    .dataframe thead th {\n",
       "        text-align: right;\n",
       "    }\n",
       "</style>\n",
       "<table border=\"1\" class=\"dataframe\">\n",
       "  <thead>\n",
       "    <tr style=\"text-align: right;\">\n",
       "      <th></th>\n",
       "      <th>0</th>\n",
       "    </tr>\n",
       "    <tr>\n",
       "      <th>type</th>\n",
       "      <th></th>\n",
       "    </tr>\n",
       "  </thead>\n",
       "  <tbody>\n",
       "    <tr>\n",
       "      <th></th>\n",
       "      <td>0.000153</td>\n",
       "    </tr>\n",
       "    <tr>\n",
       "      <th>12</th>\n",
       "      <td>0.000005</td>\n",
       "    </tr>\n",
       "    <tr>\n",
       "      <th>13</th>\n",
       "      <td>0.000005</td>\n",
       "    </tr>\n",
       "    <tr>\n",
       "      <th>14</th>\n",
       "      <td>0.000053</td>\n",
       "    </tr>\n",
       "    <tr>\n",
       "      <th>15</th>\n",
       "      <td>0.000016</td>\n",
       "    </tr>\n",
       "    <tr>\n",
       "      <th>2</th>\n",
       "      <td>0.515250</td>\n",
       "    </tr>\n",
       "    <tr>\n",
       "      <th>3</th>\n",
       "      <td>0.465553</td>\n",
       "    </tr>\n",
       "    <tr>\n",
       "      <th>4</th>\n",
       "      <td>0.006007</td>\n",
       "    </tr>\n",
       "    <tr>\n",
       "      <th>5</th>\n",
       "      <td>0.005854</td>\n",
       "    </tr>\n",
       "    <tr>\n",
       "      <th>6</th>\n",
       "      <td>0.005490</td>\n",
       "    </tr>\n",
       "    <tr>\n",
       "      <th>7</th>\n",
       "      <td>0.001609</td>\n",
       "    </tr>\n",
       "    <tr>\n",
       "      <th>9</th>\n",
       "      <td>0.000005</td>\n",
       "    </tr>\n",
       "  </tbody>\n",
       "</table>\n",
       "</div>"
      ],
      "text/plain": [
       "             0\n",
       "type          \n",
       "      0.000153\n",
       "12    0.000005\n",
       "13    0.000005\n",
       "14    0.000053\n",
       "15    0.000016\n",
       "2     0.515250\n",
       "3     0.465553\n",
       "4     0.006007\n",
       "5     0.005854\n",
       "6     0.005490\n",
       "7     0.001609\n",
       "9     0.000005"
      ]
     },
     "execution_count": 239,
     "metadata": {},
     "output_type": "execute_result"
    }
   ],
   "source": [
    "full_year_data['2000']['proportion_by_assignee_type']"
   ]
  },
  {
   "cell_type": "code",
   "execution_count": 240,
   "metadata": {},
   "outputs": [
    {
     "data": {
      "text/html": [
       "<div>\n",
       "<style scoped>\n",
       "    .dataframe tbody tr th:only-of-type {\n",
       "        vertical-align: middle;\n",
       "    }\n",
       "\n",
       "    .dataframe tbody tr th {\n",
       "        vertical-align: top;\n",
       "    }\n",
       "\n",
       "    .dataframe thead th {\n",
       "        text-align: right;\n",
       "    }\n",
       "</style>\n",
       "<table border=\"1\" class=\"dataframe\">\n",
       "  <thead>\n",
       "    <tr style=\"text-align: right;\">\n",
       "      <th></th>\n",
       "      <th>0</th>\n",
       "    </tr>\n",
       "    <tr>\n",
       "      <th>index</th>\n",
       "      <th></th>\n",
       "    </tr>\n",
       "  </thead>\n",
       "  <tbody>\n",
       "    <tr>\n",
       "      <th>utility</th>\n",
       "      <td>0.922960</td>\n",
       "    </tr>\n",
       "    <tr>\n",
       "      <th>design</th>\n",
       "      <td>0.074007</td>\n",
       "    </tr>\n",
       "    <tr>\n",
       "      <th>statutory invention registration</th>\n",
       "      <td>0.000154</td>\n",
       "    </tr>\n",
       "    <tr>\n",
       "      <th>NULL</th>\n",
       "      <td>0.000005</td>\n",
       "    </tr>\n",
       "    <tr>\n",
       "      <th>plant</th>\n",
       "      <td>0.002874</td>\n",
       "    </tr>\n",
       "  </tbody>\n",
       "</table>\n",
       "</div>"
      ],
      "text/plain": [
       "                                         0\n",
       "index                                     \n",
       "utility                           0.922960\n",
       "design                            0.074007\n",
       "statutory invention registration  0.000154\n",
       "NULL                              0.000005\n",
       "plant                             0.002874"
      ]
     },
     "execution_count": 240,
     "metadata": {},
     "output_type": "execute_result"
    }
   ],
   "source": [
    "full_year_data['2000']['proportion_by_patent_type']"
   ]
  },
  {
   "cell_type": "code",
   "execution_count": 241,
   "metadata": {},
   "outputs": [
    {
     "data": {
      "text/html": [
       "<div>\n",
       "<style scoped>\n",
       "    .dataframe tbody tr th:only-of-type {\n",
       "        vertical-align: middle;\n",
       "    }\n",
       "\n",
       "    .dataframe tbody tr th {\n",
       "        vertical-align: top;\n",
       "    }\n",
       "\n",
       "    .dataframe thead th {\n",
       "        text-align: right;\n",
       "    }\n",
       "</style>\n",
       "<table border=\"1\" class=\"dataframe\">\n",
       "  <thead>\n",
       "    <tr style=\"text-align: right;\">\n",
       "      <th></th>\n",
       "      <th>type</th>\n",
       "      <th>organization</th>\n",
       "      <th>latitude</th>\n",
       "      <th>longitude</th>\n",
       "    </tr>\n",
       "  </thead>\n",
       "  <tbody>\n",
       "    <tr>\n",
       "      <th>19046</th>\n",
       "      <td>2</td>\n",
       "      <td>Navistar International Transportation Corp.</td>\n",
       "      <td>41.8781</td>\n",
       "      <td>-87.6298</td>\n",
       "    </tr>\n",
       "    <tr>\n",
       "      <th>272415</th>\n",
       "      <td>2</td>\n",
       "      <td>Outbound Marine Corporation</td>\n",
       "      <td>42.3636</td>\n",
       "      <td>-87.8448</td>\n",
       "    </tr>\n",
       "    <tr>\n",
       "      <th>140250</th>\n",
       "      <td>3</td>\n",
       "      <td>Alps Electric Co., Ltd.</td>\n",
       "      <td>35.6895</td>\n",
       "      <td>139.6920</td>\n",
       "    </tr>\n",
       "    <tr>\n",
       "      <th>174533</th>\n",
       "      <td>3</td>\n",
       "      <td>Nippon Shinyaku Co., Ltd.</td>\n",
       "      <td>35.0104</td>\n",
       "      <td>135.7650</td>\n",
       "    </tr>\n",
       "    <tr>\n",
       "      <th>164358</th>\n",
       "      <td>3</td>\n",
       "      <td>Suzuki Motor Corporation</td>\n",
       "      <td>34.7108</td>\n",
       "      <td>137.7260</td>\n",
       "    </tr>\n",
       "  </tbody>\n",
       "</table>\n",
       "</div>"
      ],
      "text/plain": [
       "       type                                 organization  latitude  longitude\n",
       "19046     2  Navistar International Transportation Corp.   41.8781   -87.6298\n",
       "272415    2                  Outbound Marine Corporation   42.3636   -87.8448\n",
       "140250    3                      Alps Electric Co., Ltd.   35.6895   139.6920\n",
       "174533    3                    Nippon Shinyaku Co., Ltd.   35.0104   135.7650\n",
       "164358    3                     Suzuki Motor Corporation   34.7108   137.7260"
      ]
     },
     "execution_count": 241,
     "metadata": {},
     "output_type": "execute_result"
    }
   ],
   "source": [
    "full_year_data['2000']['assignees'].head()"
   ]
  },
  {
   "cell_type": "code",
   "execution_count": 242,
   "metadata": {},
   "outputs": [
    {
     "data": {
      "text/html": [
       "<div>\n",
       "<style scoped>\n",
       "    .dataframe tbody tr th:only-of-type {\n",
       "        vertical-align: middle;\n",
       "    }\n",
       "\n",
       "    .dataframe tbody tr th {\n",
       "        vertical-align: top;\n",
       "    }\n",
       "\n",
       "    .dataframe thead th {\n",
       "        text-align: right;\n",
       "    }\n",
       "</style>\n",
       "<table border=\"1\" class=\"dataframe\">\n",
       "  <thead>\n",
       "    <tr style=\"text-align: right;\">\n",
       "      <th></th>\n",
       "      <th>latitude</th>\n",
       "      <th>longitude</th>\n",
       "      <th>assignee</th>\n",
       "    </tr>\n",
       "  </thead>\n",
       "  <tbody>\n",
       "    <tr>\n",
       "      <th>1471522</th>\n",
       "      <td>23.9728</td>\n",
       "      <td>109.6670</td>\n",
       "      <td>None</td>\n",
       "    </tr>\n",
       "    <tr>\n",
       "      <th>1476254</th>\n",
       "      <td>24.1477</td>\n",
       "      <td>120.6740</td>\n",
       "      <td>None</td>\n",
       "    </tr>\n",
       "    <tr>\n",
       "      <th>1038033</th>\n",
       "      <td>41.0793</td>\n",
       "      <td>-85.1394</td>\n",
       "      <td>19046</td>\n",
       "    </tr>\n",
       "    <tr>\n",
       "      <th>1451900</th>\n",
       "      <td>41.0793</td>\n",
       "      <td>-85.1394</td>\n",
       "      <td>19046</td>\n",
       "    </tr>\n",
       "    <tr>\n",
       "      <th>1483345</th>\n",
       "      <td>22.6158</td>\n",
       "      <td>120.7120</td>\n",
       "      <td>None</td>\n",
       "    </tr>\n",
       "  </tbody>\n",
       "</table>\n",
       "</div>"
      ],
      "text/plain": [
       "         latitude  longitude assignee\n",
       "1471522   23.9728   109.6670     None\n",
       "1476254   24.1477   120.6740     None\n",
       "1038033   41.0793   -85.1394    19046\n",
       "1451900   41.0793   -85.1394    19046\n",
       "1483345   22.6158   120.7120     None"
      ]
     },
     "execution_count": 242,
     "metadata": {},
     "output_type": "execute_result"
    }
   ],
   "source": [
    "full_year_data['2000']['inventors'].head()"
   ]
  },
  {
   "cell_type": "markdown",
   "metadata": {},
   "source": [
    "**Example : getting data for Q2**"
   ]
  },
  {
   "cell_type": "code",
   "execution_count": 243,
   "metadata": {},
   "outputs": [
    {
     "name": "stdout",
     "output_type": "stream",
     "text": [
      "/media/dcm/HDD/ADA_DATA apple_example_layer0.json\n",
      "already on file\n",
      "/media/dcm/HDD/ADA_DATA apple_example_layer1.json\n",
      "already on file\n",
      "/media/dcm/HDD/ADA_DATA apple_example_layer2.json\n",
      "already on file\n",
      "/media/dcm/HDD/ADA_DATA apple_example_layer3.json\n",
      "already on file\n",
      "saving data\n"
     ]
    }
   ],
   "source": [
    "example_patent_file = get_layers_data('apple_example', MY_PATH, ['9430098'], 4)"
   ]
  },
  {
   "cell_type": "code",
   "execution_count": 244,
   "metadata": {},
   "outputs": [],
   "source": [
    "apple_example_data = load_layers(example_patent_file)"
   ]
  },
  {
   "cell_type": "markdown",
   "metadata": {},
   "source": [
    "**Checking data**"
   ]
  },
  {
   "cell_type": "code",
   "execution_count": 245,
   "metadata": {},
   "outputs": [
    {
     "data": {
      "text/plain": [
       "(3, 5, 44, 338)"
      ]
     },
     "execution_count": 245,
     "metadata": {},
     "output_type": "execute_result"
    }
   ],
   "source": [
    "len(apple_example_data['0']['inventors']), len(apple_example_data['1']['inventors']), len(apple_example_data['2']['inventors']), len(apple_example_data['3']['inventors'])"
   ]
  },
  {
   "cell_type": "markdown",
   "metadata": {},
   "source": [
    "### Approach Q1\n",
    "- Question 1 can be a natural way to progress after e.g. a short introduction about patents itself, providing the reader with insight into the main sources of patent creation as well as the potentially historic overview of the same metric.  \n",
    "- Q1.1 focuses on how data evolves through time from a geographic standpoint, and using  maps to visualize the migration could be a good approach. Below (Q2) interactive graphs are discussed and this could be one alternative here as well. \n",
    "    - One approach is to use several maps from ascending chronological periods of time where the reader could see if patterns of innovation centers emerge\n",
    "    - Another approach could be an interactive chart that enables toggling between different time periods by the reader, enabling comparison by using a single map.\n",
    "- Q1.2. can potentially provide a good segway into what we brought up in the Project's abstract: _\"While innovation is often portrayed as the product of either one charismatic leader - or a ragtag team of geniuses - in reality we suspect that innovations, however important, happen in small steps supported by large networks of people.\"_\n",
    "    - This will also be addressed in more detail in research question 2.\n",
    "    - Various barplots or line plots could provide helpful tools for answering the first part of the question, while the same tools might also be an initial way to approach the second part, after segmenting the data into geographies. Maps could also be explored here."
   ]
  },
  {
   "cell_type": "code",
   "execution_count": 246,
   "metadata": {},
   "outputs": [],
   "source": [
    "min_year = list(full_year_data.keys())[0]\n",
    "max_year = list(full_year_data.keys())[-1]"
   ]
  },
  {
   "cell_type": "code",
   "execution_count": 247,
   "metadata": {},
   "outputs": [],
   "source": [
    "def get_chart_color(patent_type):\n",
    "    if patent_type == 'defensive publication' :\n",
    "        return (18/255, 36/255, 37/255)\n",
    "    \n",
    "    if patent_type == 'design' :\n",
    "        return (33/255, 75/255, 99/255)\n",
    "    \n",
    "    if patent_type == 'plant' :\n",
    "        return (79/255, 129/255, 102/255)\n",
    "    \n",
    "    if patent_type == 'reissue' :\n",
    "        return (151/255, 179/255, 100/255)\n",
    "    \n",
    "    if patent_type == 'statutory invention registration' :\n",
    "        return (175/255, 49/255, 35/255)\n",
    "    \n",
    "    if patent_type == 'utility' :\n",
    "        return (36/255, 73/255, 147/255)"
   ]
  },
  {
   "cell_type": "code",
   "execution_count": 248,
   "metadata": {},
   "outputs": [],
   "source": [
    "def get_ts():\n",
    "    num_patents_ts = []\n",
    "    num_inventors_ts = []\n",
    "    num_citations_ts = []\n",
    "    num_utility_patents_ts = []\n",
    "    num_design_patents_ts = []\n",
    "    prop_us_private_ts = []\n",
    "    prop_nonus_private_ts = []\n",
    "    \n",
    "    for year in full_year_data:\n",
    "        num_patents_ts.append(full_year_data[year]['num_patents'])\n",
    "        num_inventors_ts.append(full_year_data[year]['num_inventors'])\n",
    "        num_citations_ts.append(full_year_data[year]['num_citations'])\n",
    "        num_utility_patents_ts.append(full_year_data[year]['proportion_by_patent_type'].loc['utility'] * num_patents_ts[-1])\n",
    "        num_design_patents_ts.append(full_year_data[year]['proportion_by_patent_type'].loc['design'] * num_patents_ts[-1])\n",
    "        prop_us_private_ts.append(full_year_data[year]['proportion_by_assignee_type'].loc['2'])\n",
    "        prop_nonus_private_ts.append(full_year_data[year]['proportion_by_assignee_type'].loc['3'])\n",
    "    \n",
    "    return np.array(num_patents_ts), np.array(num_inventors_ts), np.array(num_citations_ts), np.array(num_utility_patents_ts), np.array(num_design_patents_ts), np.array(prop_us_private_ts), np.array(prop_nonus_private_ts)"
   ]
  },
  {
   "cell_type": "code",
   "execution_count": 249,
   "metadata": {},
   "outputs": [],
   "source": [
    "patents_ts, inventors_ts, citations_ts, utility_ts, design_ts, us_ts, nonus_ts = get_ts()\n",
    "\n",
    "patents_ts = patents_ts.flatten() / 1000\n",
    "utility_ts = utility_ts.flatten() / 1000\n",
    "design_ts = design_ts.flatten() / 1000\n",
    "inventors_ts = inventors_ts.flatten() / 1000\n",
    "citations_ts = citations_ts.flatten() / 1000\n",
    "us_ts = us_ts.flatten()\n",
    "nonus_ts = nonus_ts.flatten()"
   ]
  },
  {
   "cell_type": "code",
   "execution_count": 278,
   "metadata": {},
   "outputs": [],
   "source": [
    "def fig_param(year1, year2) :\n",
    "    \n",
    "    year_range = np.array(range(int(min_year), int(max_year) + 1))\n",
    "    selected_range = np.array(range(int(year1), int(year2) + 1))\n",
    "    patent_type_dist_y1 = full_year_data[str(year1)]['proportion_by_patent_type'].sort_values(by=0, ascending = False).iloc[:3,:]\n",
    "    patent_type_dist_y2 = full_year_data[str(year2)]['proportion_by_patent_type'].sort_values(by=0, ascending = False).iloc[:3,:]\n",
    "    \n",
    "    fig = plt.figure()\n",
    "    gs = gridspec.GridSpec(5, 2, wspace=0.5, hspace=0, height_ratios=[2.5, 1, 0.75, 0.75, 0.75]) # 5x2 grid\n",
    "    ax0 = fig.add_subplot(gs[0, 0]) # first row, first col\n",
    "    ax1 = fig.add_subplot(gs[0, 1]) # first row, second col\n",
    "    ax2 = fig.add_subplot(gs[1, :]) # full second row\n",
    "    ax3 = fig.add_subplot(gs[2, :]) # full third row\n",
    "    ax4 = fig.add_subplot(gs[3, :]) # full fourth row\n",
    "    ax5 = fig.add_subplot(gs[4, :])\n",
    "    \n",
    "    \"\"\"\n",
    "    PLOT PIE CHARTS FOR SELECTED YEARS\n",
    "    \"\"\"\n",
    "    patches1, texts1, autotexts1 = ax0.pie(patent_type_dist_y1.values, labels = patent_type_dist_y1.index.values, \n",
    "                                           colors = [get_chart_color(p) for p in patent_type_dist_y1.index.values], \n",
    "                                           autopct='%1.1f%%', shadow=True)\n",
    "    ax0.set_title(year1, size = 30)\n",
    "    \n",
    "    patches2, texts2, autotexts2 = ax1.pie(patent_type_dist_y2.values, labels = patent_type_dist_y2.index.values, \n",
    "                                           colors = [get_chart_color(p) for p in patent_type_dist_y2.index.values], \n",
    "                                           autopct='%1.1f%%', shadow=True)\n",
    "    ax1.set_title(year2, size = 30)\n",
    "    \n",
    "    # FONT SIZE\n",
    "    for text in np.hstack([texts1, texts2, autotexts1, autotexts2]):\n",
    "        text.set_fontsize(20)\n",
    "    \n",
    "    \"\"\"\n",
    "    PLOT LINE CHARTS\n",
    "    \"\"\"\n",
    "    # SELECTED RANGE INDICES\n",
    "    start = sum(selected_range[0] > year_range)\n",
    "    end = len(selected_range) + 1\n",
    "    \n",
    "    # BASE PATENTS\n",
    "    ax2.stackplot(year_range, utility_ts, design_ts, patents_ts - utility_ts - design_ts,\n",
    "                  colors = ['#CCE9FF','#DEFFEE','#FFEDF3'])\n",
    "    # HIGHLIGHTED SELECTION (YEAR RANGE)\n",
    "    ax2.stackplot(selected_range, utility_ts[start:end], design_ts[start:end], patents_ts[start:end] - utility_ts[start:end] - design_ts[start:end],\n",
    "                  labels = ['Number of Utility Patents', 'Design Patents', 'Other Patents'],\n",
    "                  colors = ['#377EB8','#55BA87','#7E1137'])\n",
    "    \n",
    "    ax2.set_ylim(bottom=190)\n",
    "    \n",
    "    # INVENTORS AND CITATIONS\n",
    "    ax3.plot(year_range, inventors_ts, linewidth = 2, color = '#CCE9FF')\n",
    "    ax4.plot(year_range, citations_ts, linewidth = 2, color = '#DEFFEE')\n",
    "    # HIGHLIGHTED SELECTION (YEAR RANGE)\n",
    "    ax3.plot(selected_range, inventors_ts[start:end], label = 'Number of Inventors', linewidth = 3, color = '#377EB8')\n",
    "    ax4.plot(selected_range, citations_ts[start:end], label = 'Number of Citations',linewidth = 3, color = '#55BA87')\n",
    "    \n",
    "    # PROPORTION OF PRIVATELY OWNED PATENTS\n",
    "    ax5.stackplot(year_range, us_ts, nonus_ts, 1 - us_ts - nonus_ts,\n",
    "                  colors = ['#CCE9FF','#DEFFEE','#FFEDF3'])\n",
    "    # HIGHLIGHTED SELECTION (YEAR RANGE)\n",
    "    ax5.stackplot(selected_range, us_ts[start:end], nonus_ts[start:end], 1 - us_ts[start:end] - nonus_ts[start:end],\n",
    "                  labels = ['Proportion of US Privately Held Patents', 'Non-US Privately Held', 'Other'],\n",
    "                  colors = ['#377EB8','#55BA87','#7E1137'])\n",
    "    \n",
    "    # FORMAT PLOTS\n",
    "    #fig.patch.set_visible(False)\n",
    "    ax3.set_xticks([])\n",
    "    ax3.yaxis.tick_right()\n",
    "    ax5.yaxis.tick_right()\n",
    "    \n",
    "    \"\"\"\n",
    "    # legends\n",
    "    ax2.legend(prop = {'size' : 14})\n",
    "    ax3.legend(prop = {'size' : 14})\n",
    "    ax4.legend(prop = {'size' : 14})\n",
    "    \"\"\"\n",
    "    # despine\n",
    "    for i, a in enumerate([ax2, ax3, ax4, ax5]):\n",
    "        a.grid(axis = 'y')\n",
    "        leg = a.legend(prop = {'size' : 14}, frameon = False)\n",
    "        leg.get_frame().set_linewidth(0.0)\n",
    "        for spine in [\"top\", \"right\", \"bottom\"]:\n",
    "            a.spines[spine].set_visible(False)\n",
    "        \n",
    "    fig.set_size_inches(14,12)\n",
    "    plt.show()"
   ]
  },
  {
   "cell_type": "code",
   "execution_count": 279,
   "metadata": {},
   "outputs": [],
   "source": [
    "y1_widget = widgets.IntSlider(value = int(min_year), min = int(min_year), max = int(max_year) - 1, step = 1, description = 'From:')\n",
    "y2_widget = widgets.IntSlider(value = int(max_year), min = int(min_year) + 1, max = int(max_year), step = 1, description = 'To:')\n",
    "\n",
    "def update_y1_range(*args):\n",
    "    y1_widget.max = y2_widget.value - 1\n",
    "    \n",
    "def update_y2_range(*args):\n",
    "    y2_widget.min = y1_widget.value + 1\n",
    "    \n",
    "y1_widget.observe(update_y2_range, 'value')\n",
    "y2_widget.observe(update_y1_range, 'value')"
   ]
  },
  {
   "cell_type": "code",
   "execution_count": 280,
   "metadata": {},
   "outputs": [
    {
     "data": {
      "application/vnd.jupyter.widget-view+json": {
       "model_id": "6afc89d6058a4421ab3e2ef07cde9587",
       "version_major": 2,
       "version_minor": 0
      },
      "text/plain": [
       "interactive(children=(IntSlider(value=2000, description='From:', max=2002, min=2000), IntSlider(value=2003, de…"
      ]
     },
     "metadata": {},
     "output_type": "display_data"
    }
   ],
   "source": [
    "q1_widget = interactive(fig_param, year1 = y1_widget, year2 = y2_widget)\n",
    "q1_widget"
   ]
  },
  {
   "cell_type": "code",
   "execution_count": null,
   "metadata": {},
   "outputs": [],
   "source": []
  },
  {
   "cell_type": "code",
   "execution_count": null,
   "metadata": {},
   "outputs": [],
   "source": []
  },
  {
   "cell_type": "code",
   "execution_count": null,
   "metadata": {},
   "outputs": [],
   "source": [
    "import gc\n",
    "import folium\n",
    "import numpy as np\n",
    "import pandas as pd\n",
    "from datetime import datetime\n",
    "from collections import namedtuple"
   ]
  },
  {
   "cell_type": "code",
   "execution_count": null,
   "metadata": {},
   "outputs": [],
   "source": [
    "def get_arrows(locations, color='blue', size=6, n_arrows=3):\n",
    "    \n",
    "    '''\n",
    "    Get a list of correctly placed and rotated \n",
    "    arrows/markers to be plotted\n",
    "    \n",
    "    Parameters\n",
    "    locations : list of lists of lat lons that represent the \n",
    "                start and end of the line. \n",
    "                eg [[41.1132, -96.1993],[41.3810, -95.8021]]\n",
    "    arrow_color : default is 'blue'\n",
    "    size : default is 6\n",
    "    n_arrows : number of arrows to create.  default is 3\n",
    "\n",
    "    Return\n",
    "    list of arrows/markers\n",
    "    '''\n",
    "    \n",
    "    Point = namedtuple('Point', field_names=['lat', 'lon'])\n",
    "    \n",
    "    # creating point from our Point named tupleb\n",
    "    p1 = Point(locations[0][0], locations[0][1])\n",
    "    p2 = Point(locations[1][0], locations[1][1])\n",
    "    \n",
    "    # getting the rotation needed for our marker.  \n",
    "    # Subtracting 90 to account for the marker's orientation\n",
    "    # of due East(get_bearing returns North)\n",
    "    rotation = get_bearing(p1, p2) - 90\n",
    "    \n",
    "    # get an evenly space list of lats and lons for our arrows\n",
    "    # note that I'm discarding the first and last for aesthetics\n",
    "    # as I'm using markers to denote the start and end\n",
    "    arrow_lats = np.linspace(p1.lat, p2.lat, n_arrows + 2)[1:n_arrows+1]\n",
    "    arrow_lons = np.linspace(p1.lon, p2.lon, n_arrows + 2)[1:n_arrows+1]\n",
    "    \n",
    "    arrows = []\n",
    "    \n",
    "    #creating each \"arrow\" and appending them to our arrows list\n",
    "    for points in zip(arrow_lats, arrow_lons):\n",
    "        arrows.append(folium.RegularPolygonMarker(location=points, \n",
    "                      fill_color=color, number_of_sides=3, \n",
    "                      radius=size, rotation=rotation).add_to(m))\n",
    "    return arrows"
   ]
  },
  {
   "cell_type": "code",
   "execution_count": null,
   "metadata": {},
   "outputs": [],
   "source": [
    "def get_bearing(p1, p2):\n",
    "    \n",
    "    '''\n",
    "    Returns compass bearing from p1 to p2\n",
    "    \n",
    "    Parameters\n",
    "    p1 : namedtuple with lat lon\n",
    "    p2 : namedtuple with lat lon\n",
    "    \n",
    "    Return\n",
    "    compass bearing of type float\n",
    "    \n",
    "    Notes\n",
    "    Based on https://gist.github.com/jeromer/2005586\n",
    "    '''\n",
    "    \n",
    "    long_diff = np.radians(p2.lon - p1.lon)\n",
    "    \n",
    "    lat1 = np.radians(p1.lat)\n",
    "    lat2 = np.radians(p2.lat)\n",
    "    \n",
    "    x = np.sin(long_diff) * np.cos(lat2)\n",
    "    y = (np.cos(lat1) * np.sin(lat2) \n",
    "        - (np.sin(lat1) * np.cos(lat2) \n",
    "        * np.cos(long_diff)))\n",
    "\n",
    "    bearing = np.degrees(np.arctan2(x, y))\n",
    "    \n",
    "    # adjusting for compass bearing\n",
    "    if bearing < 0:\n",
    "        return bearing + 360\n",
    "    return bearing"
   ]
  },
  {
   "cell_type": "code",
   "execution_count": null,
   "metadata": {
    "scrolled": false
   },
   "outputs": [],
   "source": [
    "earth_center = (44.63, 28.77)\n",
    "m = folium.Map(earth_center ,tiles='cartodbpositron', zoom_start=2)\n",
    "for i in range(round(len(inventors['location'])/1000)):\n",
    "    folium.Marker(inventors['location'][i], popup=str(i), icon=folium.Icon(color='red')).add_to(m)\n",
    "    folium.Marker(inventors['last_location'][i], popup=str(i), icon=folium.Icon(color='green')).add_to(m)\n",
    "    folium.PolyLine([inventors['location'][i], inventors['last_location'][i]], color='blue').add_to(m)\n",
    "    arrows = get_arrows([inventors['location'][i], inventors['last_location'][i]], n_arrows=3)\n",
    "    for arrow in arrows:\n",
    "        arrow.add_to(m)\n",
    "m\n"
   ]
  },
  {
   "cell_type": "code",
   "execution_count": null,
   "metadata": {},
   "outputs": [],
   "source": [
    "patents.head()"
   ]
  },
  {
   "cell_type": "code",
   "execution_count": null,
   "metadata": {},
   "outputs": [],
   "source": [
    "assignees.head()"
   ]
  },
  {
   "cell_type": "code",
   "execution_count": null,
   "metadata": {},
   "outputs": [],
   "source": [
    "inventors.head()"
   ]
  },
  {
   "cell_type": "code",
   "execution_count": null,
   "metadata": {},
   "outputs": [],
   "source": [
    "citations.head()"
   ]
  },
  {
   "cell_type": "markdown",
   "metadata": {},
   "source": [
    "**patents_by_type dict**"
   ]
  },
  {
   "cell_type": "code",
   "execution_count": null,
   "metadata": {},
   "outputs": [],
   "source": [
    "# Create a dictionnary whose keys are patents types\n",
    "patents_by_type = {}\n",
    "for t in patents.type.unique():\n",
    "    patents_by_type[t] = patents[patents.type==t].drop(\"type\",axis=1)"
   ]
  },
  {
   "cell_type": "markdown",
   "metadata": {},
   "source": [
    "**inventor_to_dates dict**"
   ]
  },
  {
   "cell_type": "code",
   "execution_count": null,
   "metadata": {},
   "outputs": [],
   "source": [
    "# To access dates at which a specific inventor has proposed patents\n",
    "inventor_to_dates = {}\n",
    "for t in patents.type.unique():\n",
    "    inventor_to_dates[t]={}\n",
    "    for index, row in patents_by_type[t].iterrows():\n",
    "        for inventor in row.inventors:\n",
    "            inventor_to_dates[t].setdefault(inventor,[]).append(row.date)"
   ]
  },
  {
   "cell_type": "markdown",
   "metadata": {},
   "source": [
    "**date_to_inventors dict**"
   ]
  },
  {
   "cell_type": "code",
   "execution_count": null,
   "metadata": {},
   "outputs": [],
   "source": [
    "# To access inventors that have published at a specific date\n",
    "date_to_inventors = {}\n",
    "for t in patents.type.unique():\n",
    "    date_to_inventors[t]={}\n",
    "    for index, row in patents_by_type[t].iterrows():\n",
    "        date = datetime.strptime(row.date,'%Y-%m-%d')\n",
    "        date_to_inventors[t].setdefault(date,[]).extend(row.inventors)"
   ]
  },
  {
   "cell_type": "code",
   "execution_count": null,
   "metadata": {},
   "outputs": [],
   "source": [
    "from folium import plugins\n",
    "\n",
    "map_hooray = folium.Map(earth_center,\n",
    "                    zoom_start = 1) \n",
    "\n",
    "latitude_inventors, longitude_inventors = map(list, zip(*inventors['last_location'].values))\n",
    "heat_df = pd.DataFrame({'Latitude' : latitude_inventors,\n",
    "                       'Longitude' : longitude_inventors})\n",
    "\n",
    "# Create weight column, using date\n",
    "heat_df['Weight'] = df_acc['Date'].str[3:5]\n",
    "heat_df['Weight'] = heat_df['Weight'].astype(float)\n",
    "heat_df = heat_df.dropna(axis=0, subset=['Latitude','Longitude', 'Weight'])\n",
    "\n",
    "# List comprehension\n",
    "#to make out list of lists\n",
    "heat_data = [[[row['Latitude'],row['Longitude']] for index, row in heat_df[heat_df['Weight'] == i].iterrows()] for i in range(0,13)]\n",
    "\n",
    "# Plot it on the map\n",
    "hm = plugins.HeatMapWithTime(heat_data,auto_play=True,max_opacity=0.8)\n",
    "hm.add_to(map_hooray)\n",
    "# Display the map\n",
    "map_hooray"
   ]
  },
  {
   "cell_type": "markdown",
   "metadata": {},
   "source": [
    "### Q2/ How can we best identify and visualize different geographical innovation networks? Can we estimate the number of people in such networks?\n",
    "_Q2.1/ If we then take a few examples of different types of companies and look at the network of patents supporting their own patents, will these networks match up with the former innovation networks, or will they be more self-contained? In the latter case, can we estimate the number of people that make up these networks? Are these innovation networks concentrated around specific areas, or are they spread out ?  \n",
    "Q2.2/ Do similar companies use the same knowledge bases to innovate? For example, if we look at different social networking companies, will the networks supporting their patents be distinct? Will a given companies patents mostly cite their own previous patents, or will they tap outside innovation networks? On what scale?  \n",
    "Q2.3/ What about if we look at university/academic knowledge bases and compare them with those of the companies analyzed above?   \n",
    "Q2.4/ What about governmental or non-governmental organizations, or international agencies?    \n",
    "Q2.5/ How have the innovation networks identified above evolved through time?_ "
   ]
  },
  {
   "cell_type": "markdown",
   "metadata": {},
   "source": [
    "### Approach Q2\n",
    "- For the geographically focused research question, a natural approach can be to explore the data using maps to visualize e.g. the innovation networks.  \n",
    "- In HW2 we worked with **Folium**, which can be one interesting tool here, as we have access to clean longitude- and latitude data (see preprocessing.ipynb). Folium has e.g. cluster-functionality, which could be a way to quantify the magnitude of the networks in different geographic zones. \n",
    "    - Folium also gives us the option to add interactivity.\n",
    "- To represent networks, an alternative could be to use a graph-based approach, where relationships between entities within a network could be represented by nodes and edges. The Python library **networkx**, which enables the creation of Network Graphs, is one option. \n",
    "    - Network representations could also be relevant to answer question 2.2, when exploring the citation of patents from similar companies. \n",
    "- Throughout the data story, the usage of **interactive graphs** could be particularly efficient in making the plots self-sufficient and to invite exploration by the reader. Adding the element of time can enable comparing the development of innovation networks, and by hovering over parts of the map the reader can obtain more detailed information. \n",
    "    - The Python library **HoloViews** can, alongside networkx, enable the creation of interactive network graphs. \n",
    "    - Another interactive visualization library to explore is **Bokeh**.\n",
    "- Questions Q2.1-2. could provide tangible examples for how prevalent (or not) patent networks are for well-known companies.\n",
    "- By following these results with those of questions Q2.3-4 we believe it could provide a good overview into the similarities and/or differences between the three major categories of organizations (academia, non-governmental and governmental organizations), hence being of interest to readers within various field, and also (hopefully) providing input to our peers (students) that might be interested in research and innovation, and that might contemplate various possible tracks for their careers.  \n",
    "\n",
    "In summary, the visualization techniques, as well as the amount of interactivity to add, if any, we decide upon will have a big impact on the quality of the data story. This latter is intended to be eventually recounted on a website spitted out by Jekyll, a static site generator."
   ]
  }
 ],
 "metadata": {
  "kernelspec": {
   "display_name": "Python [conda env:ada]",
   "language": "python",
   "name": "conda-env-ada-py"
  },
  "language_info": {
   "codemirror_mode": {
    "name": "ipython",
    "version": 3
   },
   "file_extension": ".py",
   "mimetype": "text/x-python",
   "name": "python",
   "nbconvert_exporter": "python",
   "pygments_lexer": "ipython3",
   "version": "3.6.6"
  }
 },
 "nbformat": 4,
 "nbformat_minor": 2
}
