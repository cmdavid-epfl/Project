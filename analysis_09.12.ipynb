{
 "cells": [
  {
   "cell_type": "markdown",
   "metadata": {},
   "source": [
    "## Motivation\n",
    "\n",
    "- The purpose of this part is to present an initial outline for the tools that can help us in the creation of the Data Story, based on the work done thus far. \n",
    "- By iteratively updating, and keeping the outline in mind, we believe it will help us to reflect around how we can present our results in an effective manner throughout the data analysis pipeline. This approach will allow us to keep an open mind to finding new insights throughout the project.  \n",
    "- On the other hand, being conscious of the data story can also enable us to be more structured in our data analysis process, by developing the story we want to tell and finding the data that can support it. \n",
    "\n",
    "## Structure\n",
    "- The initial outline will be focused on how we could approach communicating the results for the research questions as well as a first outline for in which order it could be natural to present them. \n",
    "- Further iterations will aim at becoming more and more focused on creating a coherent story, that is following a well thought-through order to improve readability."
   ]
  },
  {
   "cell_type": "markdown",
   "metadata": {},
   "source": [
    "### Q1/ What does the typical patent-holder look like today (Corporation, Universities, Governments, Individuals), and how has that evolved throughout time / geographies?\n",
    "_Q1.1/ Is a migration of innovators through time visible in the data, e.g. a convergence towards certain innovation centers?  \n",
    "Q1.2 / How has the number of assignees and inventors evolved through time for different patent types? Are there significant differences in these numbers between different geographies?_  "
   ]
  },
  {
   "cell_type": "markdown",
   "metadata": {},
   "source": [
    "Get all the patents data for the year 2016."
   ]
  },
  {
   "cell_type": "code",
   "execution_count": 193,
   "metadata": {},
   "outputs": [],
   "source": [
    "import pandas as pd\n",
    "import numpy as np\n",
    "import matplotlib.pyplot as plt\n",
    "import matplotlib.gridspec as gridspec\n",
    "from pipeline import get_full_year_data, load_preprocessed_data, get_layers_data, load_layers\n",
    "\n",
    "from ipywidgets import interact, interactive, fixed, interact_manual\n",
    "import ipywidgets as widgets\n",
    "\n",
    "import time"
   ]
  },
  {
   "cell_type": "markdown",
   "metadata": {},
   "source": [
    "**Define path to save all data files**"
   ]
  },
  {
   "cell_type": "code",
   "execution_count": 194,
   "metadata": {},
   "outputs": [],
   "source": [
    "MY_PATH = '/media/dcm/HDD/ADA_DATA'"
   ]
  },
  {
   "cell_type": "markdown",
   "metadata": {},
   "source": [
    "**Getting data for Q1**"
   ]
  },
  {
   "cell_type": "code",
   "execution_count": null,
   "metadata": {},
   "outputs": [
    {
     "name": "stdout",
     "output_type": "stream",
     "text": [
      "/media/dcm/HDD/ADA_DATA 2000q1\n",
      "already on file\n",
      "/media/dcm/HDD/ADA_DATA 2000q2\n",
      "already on file\n",
      "/media/dcm/HDD/ADA_DATA 2000q3\n",
      "already on file\n",
      "/media/dcm/HDD/ADA_DATA 2000q4\n",
      "86\n",
      "fetching first page\n",
      "fetching page 2\n",
      "fetching page 3\n",
      "fetching page 4\n",
      "fetching page 5\n",
      "fetching page 6\n",
      "saving data\n",
      "/media/dcm/HDD/ADA_DATA 2001q1\n",
      "86\n",
      "fetching first page\n",
      "fetching page 2\n"
     ]
    }
   ],
   "source": [
    "full_datafile_lists = {}\n",
    "full_year_data = {}\n",
    "year_range = range(2000,2017)\n",
    "\n",
    "for year in year_range:\n",
    "    time.sleep(60)\n",
    "    full_datafile_lists[str(year)] = get_full_year_data(str(year), MY_PATH)"
   ]
  },
  {
   "cell_type": "code",
   "execution_count": 5,
   "metadata": {},
   "outputs": [],
   "source": [
    "for year in year_range:\n",
    "    full_year_data[str(year)] = load_preprocessed_data(full_datafile_lists[str(year)])"
   ]
  },
  {
   "cell_type": "markdown",
   "metadata": {},
   "source": [
    "**Checking data**"
   ]
  },
  {
   "cell_type": "code",
   "execution_count": 6,
   "metadata": {},
   "outputs": [
    {
     "data": {
      "text/plain": [
       "(119682, 2461338, 187117)"
      ]
     },
     "execution_count": 6,
     "metadata": {},
     "output_type": "execute_result"
    }
   ],
   "source": [
    "full_year_data['2016']['num_patents'], full_year_data['2016']['num_citations'], full_year_data['2016']['num_inventors']  "
   ]
  },
  {
   "cell_type": "code",
   "execution_count": 7,
   "metadata": {},
   "outputs": [
    {
     "data": {
      "text/html": [
       "<div>\n",
       "<style scoped>\n",
       "    .dataframe tbody tr th:only-of-type {\n",
       "        vertical-align: middle;\n",
       "    }\n",
       "\n",
       "    .dataframe tbody tr th {\n",
       "        vertical-align: top;\n",
       "    }\n",
       "\n",
       "    .dataframe thead th {\n",
       "        text-align: right;\n",
       "    }\n",
       "</style>\n",
       "<table border=\"1\" class=\"dataframe\">\n",
       "  <thead>\n",
       "    <tr style=\"text-align: right;\">\n",
       "      <th></th>\n",
       "      <th>0</th>\n",
       "    </tr>\n",
       "    <tr>\n",
       "      <th>type</th>\n",
       "      <th></th>\n",
       "    </tr>\n",
       "  </thead>\n",
       "  <tbody>\n",
       "    <tr>\n",
       "      <th>12</th>\n",
       "      <td>0.000009</td>\n",
       "    </tr>\n",
       "    <tr>\n",
       "      <th>13</th>\n",
       "      <td>0.000036</td>\n",
       "    </tr>\n",
       "    <tr>\n",
       "      <th>2</th>\n",
       "      <td>0.519733</td>\n",
       "    </tr>\n",
       "    <tr>\n",
       "      <th>3</th>\n",
       "      <td>0.466790</td>\n",
       "    </tr>\n",
       "    <tr>\n",
       "      <th>4</th>\n",
       "      <td>0.005961</td>\n",
       "    </tr>\n",
       "    <tr>\n",
       "      <th>5</th>\n",
       "      <td>0.003199</td>\n",
       "    </tr>\n",
       "    <tr>\n",
       "      <th>6</th>\n",
       "      <td>0.003235</td>\n",
       "    </tr>\n",
       "    <tr>\n",
       "      <th>7</th>\n",
       "      <td>0.001027</td>\n",
       "    </tr>\n",
       "    <tr>\n",
       "      <th>9</th>\n",
       "      <td>0.000009</td>\n",
       "    </tr>\n",
       "  </tbody>\n",
       "</table>\n",
       "</div>"
      ],
      "text/plain": [
       "             0\n",
       "type          \n",
       "12    0.000009\n",
       "13    0.000036\n",
       "2     0.519733\n",
       "3     0.466790\n",
       "4     0.005961\n",
       "5     0.003199\n",
       "6     0.003235\n",
       "7     0.001027\n",
       "9     0.000009"
      ]
     },
     "execution_count": 7,
     "metadata": {},
     "output_type": "execute_result"
    }
   ],
   "source": [
    "full_year_data['2016']['proportion_by_assignee_type'] fil\n"
   ]
  },
  {
   "cell_type": "code",
   "execution_count": 8,
   "metadata": {},
   "outputs": [
    {
     "data": {
      "text/html": [
       "<div>\n",
       "<style scoped>\n",
       "    .dataframe tbody tr th:only-of-type {\n",
       "        vertical-align: middle;\n",
       "    }\n",
       "\n",
       "    .dataframe tbody tr th {\n",
       "        vertical-align: top;\n",
       "    }\n",
       "\n",
       "    .dataframe thead th {\n",
       "        text-align: right;\n",
       "    }\n",
       "</style>\n",
       "<table border=\"1\" class=\"dataframe\">\n",
       "  <thead>\n",
       "    <tr style=\"text-align: right;\">\n",
       "      <th></th>\n",
       "      <th>0</th>\n",
       "    </tr>\n",
       "    <tr>\n",
       "      <th>index</th>\n",
       "      <th></th>\n",
       "    </tr>\n",
       "  </thead>\n",
       "  <tbody>\n",
       "    <tr>\n",
       "      <th>utility</th>\n",
       "      <td>0.801232</td>\n",
       "    </tr>\n",
       "    <tr>\n",
       "      <th>design</th>\n",
       "      <td>0.191750</td>\n",
       "    </tr>\n",
       "    <tr>\n",
       "      <th>plant</th>\n",
       "      <td>0.007019</td>\n",
       "    </tr>\n",
       "  </tbody>\n",
       "</table>\n",
       "</div>"
      ],
      "text/plain": [
       "                0\n",
       "index            \n",
       "utility  0.801232\n",
       "design   0.191750\n",
       "plant    0.007019"
      ]
     },
     "execution_count": 8,
     "metadata": {},
     "output_type": "execute_result"
    }
   ],
   "source": [
    "full_year_data['2016']['proportion_by_patent_type']"
   ]
  },
  {
   "cell_type": "code",
   "execution_count": 9,
   "metadata": {},
   "outputs": [
    {
     "data": {
      "text/html": [
       "<div>\n",
       "<style scoped>\n",
       "    .dataframe tbody tr th:only-of-type {\n",
       "        vertical-align: middle;\n",
       "    }\n",
       "\n",
       "    .dataframe tbody tr th {\n",
       "        vertical-align: top;\n",
       "    }\n",
       "\n",
       "    .dataframe thead th {\n",
       "        text-align: right;\n",
       "    }\n",
       "</style>\n",
       "<table border=\"1\" class=\"dataframe\">\n",
       "  <thead>\n",
       "    <tr style=\"text-align: right;\">\n",
       "      <th></th>\n",
       "      <th>type</th>\n",
       "      <th>organization</th>\n",
       "      <th>latitude</th>\n",
       "      <th>longitude</th>\n",
       "    </tr>\n",
       "  </thead>\n",
       "  <tbody>\n",
       "    <tr>\n",
       "      <th>120684</th>\n",
       "      <td>2</td>\n",
       "      <td>Fortinet, Inc.</td>\n",
       "      <td>37.3688</td>\n",
       "      <td>-122.0360</td>\n",
       "    </tr>\n",
       "    <tr>\n",
       "      <th>348786</th>\n",
       "      <td>2</td>\n",
       "      <td>Xerox Corporation</td>\n",
       "      <td>41.1177</td>\n",
       "      <td>-73.4082</td>\n",
       "    </tr>\n",
       "    <tr>\n",
       "      <th>73247</th>\n",
       "      <td>2</td>\n",
       "      <td>MERIDIAN EQUIPMENT, INC.</td>\n",
       "      <td>29.7604</td>\n",
       "      <td>-95.3698</td>\n",
       "    </tr>\n",
       "    <tr>\n",
       "      <th>121339</th>\n",
       "      <td>2</td>\n",
       "      <td>Hewlett-Packard Development Company, L.P.</td>\n",
       "      <td>29.7604</td>\n",
       "      <td>-95.3698</td>\n",
       "    </tr>\n",
       "    <tr>\n",
       "      <th>334442</th>\n",
       "      <td>2</td>\n",
       "      <td>VHDL, Inc</td>\n",
       "      <td>29.9717</td>\n",
       "      <td>-95.6938</td>\n",
       "    </tr>\n",
       "  </tbody>\n",
       "</table>\n",
       "</div>"
      ],
      "text/plain": [
       "       type                               organization  latitude  longitude\n",
       "120684    2                             Fortinet, Inc.   37.3688  -122.0360\n",
       "348786    2                          Xerox Corporation   41.1177   -73.4082\n",
       "73247     2                   MERIDIAN EQUIPMENT, INC.   29.7604   -95.3698\n",
       "121339    2  Hewlett-Packard Development Company, L.P.   29.7604   -95.3698\n",
       "334442    2                                  VHDL, Inc   29.9717   -95.6938"
      ]
     },
     "execution_count": 9,
     "metadata": {},
     "output_type": "execute_result"
    }
   ],
   "source": [
    "full_year_data['2016']['assignees'].head()"
   ]
  },
  {
   "cell_type": "code",
   "execution_count": 10,
   "metadata": {},
   "outputs": [
    {
     "data": {
      "text/html": [
       "<div>\n",
       "<style scoped>\n",
       "    .dataframe tbody tr th:only-of-type {\n",
       "        vertical-align: middle;\n",
       "    }\n",
       "\n",
       "    .dataframe tbody tr th {\n",
       "        vertical-align: top;\n",
       "    }\n",
       "\n",
       "    .dataframe thead th {\n",
       "        text-align: right;\n",
       "    }\n",
       "</style>\n",
       "<table border=\"1\" class=\"dataframe\">\n",
       "  <thead>\n",
       "    <tr style=\"text-align: right;\">\n",
       "      <th></th>\n",
       "      <th>latitude</th>\n",
       "      <th>longitude</th>\n",
       "      <th>assignee</th>\n",
       "    </tr>\n",
       "  </thead>\n",
       "  <tbody>\n",
       "    <tr>\n",
       "      <th>1383149</th>\n",
       "      <td>37.3382</td>\n",
       "      <td>-121.8860</td>\n",
       "      <td>120684</td>\n",
       "    </tr>\n",
       "    <tr>\n",
       "      <th>1798151</th>\n",
       "      <td>37.5483</td>\n",
       "      <td>-121.9890</td>\n",
       "      <td>120684</td>\n",
       "    </tr>\n",
       "    <tr>\n",
       "      <th>2171910</th>\n",
       "      <td>37.4323</td>\n",
       "      <td>-121.9000</td>\n",
       "      <td>120684</td>\n",
       "    </tr>\n",
       "    <tr>\n",
       "      <th>2250909</th>\n",
       "      <td>37.3861</td>\n",
       "      <td>-122.0840</td>\n",
       "      <td>120684</td>\n",
       "    </tr>\n",
       "    <tr>\n",
       "      <th>2641780</th>\n",
       "      <td>51.9791</td>\n",
       "      <td>-0.2266</td>\n",
       "      <td>348786</td>\n",
       "    </tr>\n",
       "  </tbody>\n",
       "</table>\n",
       "</div>"
      ],
      "text/plain": [
       "         latitude  longitude assignee\n",
       "1383149   37.3382  -121.8860   120684\n",
       "1798151   37.5483  -121.9890   120684\n",
       "2171910   37.4323  -121.9000   120684\n",
       "2250909   37.3861  -122.0840   120684\n",
       "2641780   51.9791    -0.2266   348786"
      ]
     },
     "execution_count": 10,
     "metadata": {},
     "output_type": "execute_result"
    }
   ],
   "source": [
    "full_year_data['2016']['inventors'].head()"
   ]
  },
  {
   "cell_type": "markdown",
   "metadata": {},
   "source": [
    "**Example : getting data for Q2**"
   ]
  },
  {
   "cell_type": "code",
   "execution_count": 11,
   "metadata": {},
   "outputs": [
    {
     "name": "stdout",
     "output_type": "stream",
     "text": [
      "/media/dcm/HDD/ADA_DATA apple_example_layer0.json\n",
      "already on file\n",
      "/media/dcm/HDD/ADA_DATA apple_example_layer1.json\n",
      "already on file\n",
      "/media/dcm/HDD/ADA_DATA apple_example_layer2.json\n",
      "already on file\n",
      "/media/dcm/HDD/ADA_DATA apple_example_layer3.json\n",
      "already on file\n",
      "saving data\n"
     ]
    }
   ],
   "source": [
    "example_patent_file = get_layers_data('apple_example', MY_PATH, ['9430098'], 4)"
   ]
  },
  {
   "cell_type": "code",
   "execution_count": 12,
   "metadata": {},
   "outputs": [],
   "source": [
    "apple_example_data = load_layers(example_patent_file)"
   ]
  },
  {
   "cell_type": "markdown",
   "metadata": {},
   "source": [
    "**Checking data**"
   ]
  },
  {
   "cell_type": "code",
   "execution_count": 13,
   "metadata": {},
   "outputs": [
    {
     "data": {
      "text/html": [
       "<div>\n",
       "<style scoped>\n",
       "    .dataframe tbody tr th:only-of-type {\n",
       "        vertical-align: middle;\n",
       "    }\n",
       "\n",
       "    .dataframe tbody tr th {\n",
       "        vertical-align: top;\n",
       "    }\n",
       "\n",
       "    .dataframe thead th {\n",
       "        text-align: right;\n",
       "    }\n",
       "</style>\n",
       "<table border=\"1\" class=\"dataframe\">\n",
       "  <thead>\n",
       "    <tr style=\"text-align: right;\">\n",
       "      <th></th>\n",
       "      <th>latitude</th>\n",
       "      <th>longitude</th>\n",
       "    </tr>\n",
       "  </thead>\n",
       "  <tbody>\n",
       "    <tr>\n",
       "      <th>1221243</th>\n",
       "      <td>37.9476</td>\n",
       "      <td>-122.525</td>\n",
       "    </tr>\n",
       "    <tr>\n",
       "      <th>3146580</th>\n",
       "      <td>33.6846</td>\n",
       "      <td>-117.826</td>\n",
       "    </tr>\n",
       "    <tr>\n",
       "      <th>3317742</th>\n",
       "      <td>37.3852</td>\n",
       "      <td>-122.114</td>\n",
       "    </tr>\n",
       "  </tbody>\n",
       "</table>\n",
       "</div>"
      ],
      "text/plain": [
       "         latitude  longitude\n",
       "1221243   37.9476   -122.525\n",
       "3146580   33.6846   -117.826\n",
       "3317742   37.3852   -122.114"
      ]
     },
     "execution_count": 13,
     "metadata": {},
     "output_type": "execute_result"
    }
   ],
   "source": [
    "apple_example_data['0']['inventors']"
   ]
  },
  {
   "cell_type": "code",
   "execution_count": 14,
   "metadata": {},
   "outputs": [
    {
     "data": {
      "text/html": [
       "<div>\n",
       "<style scoped>\n",
       "    .dataframe tbody tr th:only-of-type {\n",
       "        vertical-align: middle;\n",
       "    }\n",
       "\n",
       "    .dataframe tbody tr th {\n",
       "        vertical-align: top;\n",
       "    }\n",
       "\n",
       "    .dataframe thead th {\n",
       "        text-align: right;\n",
       "    }\n",
       "</style>\n",
       "<table border=\"1\" class=\"dataframe\">\n",
       "  <thead>\n",
       "    <tr style=\"text-align: right;\">\n",
       "      <th></th>\n",
       "      <th>latitude</th>\n",
       "      <th>longitude</th>\n",
       "    </tr>\n",
       "  </thead>\n",
       "  <tbody>\n",
       "    <tr>\n",
       "      <th>1878402</th>\n",
       "      <td>48.8638</td>\n",
       "      <td>2.44845</td>\n",
       "    </tr>\n",
       "    <tr>\n",
       "      <th>2212351</th>\n",
       "      <td>48.8566</td>\n",
       "      <td>2.35222</td>\n",
       "    </tr>\n",
       "    <tr>\n",
       "      <th>2212352</th>\n",
       "      <td>48.8566</td>\n",
       "      <td>2.35222</td>\n",
       "    </tr>\n",
       "    <tr>\n",
       "      <th>2824276</th>\n",
       "      <td>13.0423</td>\n",
       "      <td>77.61360</td>\n",
       "    </tr>\n",
       "    <tr>\n",
       "      <th>503175</th>\n",
       "      <td>48.8130</td>\n",
       "      <td>2.23847</td>\n",
       "    </tr>\n",
       "  </tbody>\n",
       "</table>\n",
       "</div>"
      ],
      "text/plain": [
       "         latitude  longitude\n",
       "1878402   48.8638    2.44845\n",
       "2212351   48.8566    2.35222\n",
       "2212352   48.8566    2.35222\n",
       "2824276   13.0423   77.61360\n",
       "503175    48.8130    2.23847"
      ]
     },
     "execution_count": 14,
     "metadata": {},
     "output_type": "execute_result"
    }
   ],
   "source": [
    "apple_example_data['1']['inventors']"
   ]
  },
  {
   "cell_type": "code",
   "execution_count": 158,
   "metadata": {},
   "outputs": [
    {
     "data": {
      "text/plain": [
       "(3, 5, 44, 338)"
      ]
     },
     "execution_count": 158,
     "metadata": {},
     "output_type": "execute_result"
    }
   ],
   "source": [
    "len(apple_example_data['0']['inventors']), len(apple_example_data['1']['inventors']), len(apple_example_data['2']['inventors']), len(apple_example_data['3']['inventors'])"
   ]
  },
  {
   "cell_type": "markdown",
   "metadata": {},
   "source": [
    "### Approach Q1\n",
    "- Question 1 can be a natural way to progress after e.g. a short introduction about patents itself, providing the reader with insight into the main sources of patent creation as well as the potentially historic overview of the same metric.  \n",
    "- Q1.1 focuses on how data evolves through time from a geographic standpoint, and using  maps to visualize the migration could be a good approach. Below (Q2) interactive graphs are discussed and this could be one alternative here as well. \n",
    "    - One approach is to use several maps from ascending chronological periods of time where the reader could see if patterns of innovation centers emerge\n",
    "    - Another approach could be an interactive chart that enables toggling between different time periods by the reader, enabling comparison by using a single map.\n",
    "- Q1.2. can potentially provide a good segway into what we brought up in the Project's abstract: _\"While innovation is often portrayed as the product of either one charismatic leader - or a ragtag team of geniuses - in reality we suspect that innovations, however important, happen in small steps supported by large networks of people.\"_\n",
    "    - This will also be addressed in more detail in research question 2.\n",
    "    - Various barplots or line plots could provide helpful tools for answering the first part of the question, while the same tools might also be an initial way to approach the second part, after segmenting the data into geographies. Maps could also be explored here."
   ]
  },
  {
   "cell_type": "code",
   "execution_count": 81,
   "metadata": {},
   "outputs": [],
   "source": [
    "def get_chart_color(patent_type):\n",
    "    if patent_type == 'defensive publication' :\n",
    "        return (18/255, 36/255, 37/255)\n",
    "    \n",
    "    if patent_type == 'design' :\n",
    "        return (33/255, 75/255, 99/255)\n",
    "    \n",
    "    if patent_type == 'plant' :\n",
    "        return (79/255, 129/255, 102/255)\n",
    "    \n",
    "    if patent_type == 'reissue' :\n",
    "        return (151/255, 179/255, 100/255)\n",
    "    \n",
    "    if patent_type == 'statutory invention registration' :\n",
    "        return (175/255, 49/255, 35/255)\n",
    "    \n",
    "    if patent_type == 'utility' :\n",
    "        return (36/255, 73/255, 147/255)"
   ]
  },
  {
   "cell_type": "code",
   "execution_count": 187,
   "metadata": {},
   "outputs": [],
   "source": [
    "def fig_param(year1) :\n",
    "    \n",
    "    year1 = str(year1)\n",
    "    year2 = year1\n",
    "    patent_type_dist_y1 = full_year_data[year1]['proportion_by_patent_type']\n",
    "    patent_type_dist_y2 = full_year_data[year2]['proportion_by_patent_type']\n",
    "    \n",
    "    fig = plt.figure()\n",
    "    gs = gridspec.GridSpec(3, 2, wspace=0.5, hspace=0, height_ratios=[2, 1, 1]) # 3x2 grid\n",
    "    ax0 = fig.add_subplot(gs[0, 0]) # first row, first col\n",
    "    ax1 = fig.add_subplot(gs[0, 1]) # first row, second col\n",
    "    ax2 = fig.add_subplot(gs[1, :]) # full second row\n",
    "    ax3 = fig.add_subplot(gs[2, :])\n",
    "    \n",
    "    patches1, texts1, autotexts1 = ax0.pie(patent_type_dist_y1.values, labels = patent_type_dist_y1.index.values, \n",
    "                                           colors = [get_chart_color(p) for p in patent_type_dist_y1.index.values], \n",
    "                                           autopct='%1.1f%%', shadow=True)\n",
    "    ax0.set_title(year1, size = 30)\n",
    "    \n",
    "    patches2, texts2, autotexts2 = ax1.pie(patent_type_dist_y2.values, labels = patent_type_dist_y2.index.values, \n",
    "                                           colors = [get_chart_color(p) for p in patent_type_dist_y2.index.values], \n",
    "                                           autopct='%1.1f%%', shadow=True)\n",
    "    ax1.set_title(year2, size = 30)\n",
    "    \n",
    "    for text in np.hstack([texts1, texts2, autotexts1, autotexts2]):\n",
    "        text.set_fontsize(20)\n",
    "\n",
    "        \n",
    "    ax2.set_xticks([])\n",
    "    ax3.yaxis.tick_right()\n",
    "        \n",
    "        \n",
    "    fig.set_size_inches(14,12)\n",
    "    plt.show()\n"
   ]
  },
  {
   "cell_type": "code",
   "execution_count": 188,
   "metadata": {},
   "outputs": [
    {
     "data": {
      "image/png": "[encoded data removed]",
      "text/plain": [
       "<Figure size 1008x864 with 4 Axes>"
      ]
     },
     "metadata": {
      "needs_background": "light"
     },
     "output_type": "display_data"
    }
   ],
   "source": [
    "interactive(fig_param, year1 = (2014, 2018,1))"
   ]
  },
  {
   "cell_type": "code",
   "execution_count": null,
   "metadata": {},
   "outputs": [],
   "source": []
  },
  {
   "cell_type": "code",
   "execution_count": null,
   "metadata": {},
   "outputs": [],
   "source": []
  },
  {
   "cell_type": "code",
   "execution_count": null,
   "metadata": {},
   "outputs": [],
   "source": [
    "import gc\n",
    "import folium\n",
    "import numpy as np\n",
    "import pandas as pd\n",
    "from datetime import datetime\n",
    "from collections import namedtuple"
   ]
  },
  {
   "cell_type": "code",
   "execution_count": null,
   "metadata": {},
   "outputs": [],
   "source": [
    "def get_arrows(locations, color='blue', size=6, n_arrows=3):\n",
    "    \n",
    "    '''\n",
    "    Get a list of correctly placed and rotated \n",
    "    arrows/markers to be plotted\n",
    "    \n",
    "    Parameters\n",
    "    locations : list of lists of lat lons that represent the \n",
    "                start and end of the line. \n",
    "                eg [[41.1132, -96.1993],[41.3810, -95.8021]]\n",
    "    arrow_color : default is 'blue'\n",
    "    size : default is 6\n",
    "    n_arrows : number of arrows to create.  default is 3\n",
    "\n",
    "    Return\n",
    "    list of arrows/markers\n",
    "    '''\n",
    "    \n",
    "    Point = namedtuple('Point', field_names=['lat', 'lon'])\n",
    "    \n",
    "    # creating point from our Point named tupleb\n",
    "    p1 = Point(locations[0][0], locations[0][1])\n",
    "    p2 = Point(locations[1][0], locations[1][1])\n",
    "    \n",
    "    # getting the rotation needed for our marker.  \n",
    "    # Subtracting 90 to account for the marker's orientation\n",
    "    # of due East(get_bearing returns North)\n",
    "    rotation = get_bearing(p1, p2) - 90\n",
    "    \n",
    "    # get an evenly space list of lats and lons for our arrows\n",
    "    # note that I'm discarding the first and last for aesthetics\n",
    "    # as I'm using markers to denote the start and end\n",
    "    arrow_lats = np.linspace(p1.lat, p2.lat, n_arrows + 2)[1:n_arrows+1]\n",
    "    arrow_lons = np.linspace(p1.lon, p2.lon, n_arrows + 2)[1:n_arrows+1]\n",
    "    \n",
    "    arrows = []\n",
    "    \n",
    "    #creating each \"arrow\" and appending them to our arrows list\n",
    "    for points in zip(arrow_lats, arrow_lons):\n",
    "        arrows.append(folium.RegularPolygonMarker(location=points, \n",
    "                      fill_color=color, number_of_sides=3, \n",
    "                      radius=size, rotation=rotation).add_to(m))\n",
    "    return arrows"
   ]
  },
  {
   "cell_type": "code",
   "execution_count": null,
   "metadata": {},
   "outputs": [],
   "source": [
    "def get_bearing(p1, p2):\n",
    "    \n",
    "    '''\n",
    "    Returns compass bearing from p1 to p2\n",
    "    \n",
    "    Parameters\n",
    "    p1 : namedtuple with lat lon\n",
    "    p2 : namedtuple with lat lon\n",
    "    \n",
    "    Return\n",
    "    compass bearing of type float\n",
    "    \n",
    "    Notes\n",
    "    Based on https://gist.github.com/jeromer/2005586\n",
    "    '''\n",
    "    \n",
    "    long_diff = np.radians(p2.lon - p1.lon)\n",
    "    \n",
    "    lat1 = np.radians(p1.lat)\n",
    "    lat2 = np.radians(p2.lat)\n",
    "    \n",
    "    x = np.sin(long_diff) * np.cos(lat2)\n",
    "    y = (np.cos(lat1) * np.sin(lat2) \n",
    "        - (np.sin(lat1) * np.cos(lat2) \n",
    "        * np.cos(long_diff)))\n",
    "\n",
    "    bearing = np.degrees(np.arctan2(x, y))\n",
    "    \n",
    "    # adjusting for compass bearing\n",
    "    if bearing < 0:\n",
    "        return bearing + 360\n",
    "    return bearing"
   ]
  },
  {
   "cell_type": "code",
   "execution_count": null,
   "metadata": {
    "scrolled": false
   },
   "outputs": [],
   "source": [
    "earth_center = (44.63, 28.77)\n",
    "m = folium.Map(earth_center ,tiles='cartodbpositron', zoom_start=2)\n",
    "for i in range(round(len(inventors['location'])/1000)):\n",
    "    folium.Marker(inventors['location'][i], popup=str(i), icon=folium.Icon(color='red')).add_to(m)\n",
    "    folium.Marker(inventors['last_location'][i], popup=str(i), icon=folium.Icon(color='green')).add_to(m)\n",
    "    folium.PolyLine([inventors['location'][i], inventors['last_location'][i]], color='blue').add_to(m)\n",
    "    arrows = get_arrows([inventors['location'][i], inventors['last_location'][i]], n_arrows=3)\n",
    "    for arrow in arrows:\n",
    "        arrow.add_to(m)\n",
    "m\n"
   ]
  },
  {
   "cell_type": "code",
   "execution_count": null,
   "metadata": {},
   "outputs": [],
   "source": [
    "patents.head()"
   ]
  },
  {
   "cell_type": "code",
   "execution_count": null,
   "metadata": {},
   "outputs": [],
   "source": [
    "assignees.head()"
   ]
  },
  {
   "cell_type": "code",
   "execution_count": null,
   "metadata": {},
   "outputs": [],
   "source": [
    "inventors.head()"
   ]
  },
  {
   "cell_type": "code",
   "execution_count": null,
   "metadata": {},
   "outputs": [],
   "source": [
    "citations.head()"
   ]
  },
  {
   "cell_type": "markdown",
   "metadata": {},
   "source": [
    "**patents_by_type dict**"
   ]
  },
  {
   "cell_type": "code",
   "execution_count": null,
   "metadata": {},
   "outputs": [],
   "source": [
    "# Create a dictionnary whose keys are patents types\n",
    "patents_by_type = {}\n",
    "for t in patents.type.unique():\n",
    "    patents_by_type[t] = patents[patents.type==t].drop(\"type\",axis=1)"
   ]
  },
  {
   "cell_type": "markdown",
   "metadata": {},
   "source": [
    "**inventor_to_dates dict**"
   ]
  },
  {
   "cell_type": "code",
   "execution_count": null,
   "metadata": {},
   "outputs": [],
   "source": [
    "# To access dates at which a specific inventor has proposed patents\n",
    "inventor_to_dates = {}\n",
    "for t in patents.type.unique():\n",
    "    inventor_to_dates[t]={}\n",
    "    for index, row in patents_by_type[t].iterrows():\n",
    "        for inventor in row.inventors:\n",
    "            inventor_to_dates[t].setdefault(inventor,[]).append(row.date)"
   ]
  },
  {
   "cell_type": "markdown",
   "metadata": {},
   "source": [
    "**date_to_inventors dict**"
   ]
  },
  {
   "cell_type": "code",
   "execution_count": null,
   "metadata": {},
   "outputs": [],
   "source": [
    "# To access inventors that have published at a specific date\n",
    "date_to_inventors = {}\n",
    "for t in patents.type.unique():\n",
    "    date_to_inventors[t]={}\n",
    "    for index, row in patents_by_type[t].iterrows():\n",
    "        date = datetime.strptime(row.date,'%Y-%m-%d')\n",
    "        date_to_inventors[t].setdefault(date,[]).extend(row.inventors)"
   ]
  },
  {
   "cell_type": "code",
   "execution_count": null,
   "metadata": {},
   "outputs": [],
   "source": [
    "from folium import plugins\n",
    "\n",
    "map_hooray = folium.Map(earth_center,\n",
    "                    zoom_start = 1) \n",
    "\n",
    "latitude_inventors, longitude_inventors = map(list, zip(*inventors['last_location'].values))\n",
    "heat_df = pd.DataFrame({'Latitude' : latitude_inventors,\n",
    "                       'Longitude' : longitude_inventors})\n",
    "\n",
    "# Create weight column, using date\n",
    "heat_df['Weight'] = df_acc['Date'].str[3:5]\n",
    "heat_df['Weight'] = heat_df['Weight'].astype(float)\n",
    "heat_df = heat_df.dropna(axis=0, subset=['Latitude','Longitude', 'Weight'])\n",
    "\n",
    "# List comprehension\n",
    "#to make out list of lists\n",
    "heat_data = [[[row['Latitude'],row['Longitude']] for index, row in heat_df[heat_df['Weight'] == i].iterrows()] for i in range(0,13)]\n",
    "\n",
    "# Plot it on the map\n",
    "hm = plugins.HeatMapWithTime(heat_data,auto_play=True,max_opacity=0.8)\n",
    "hm.add_to(map_hooray)\n",
    "# Display the map\n",
    "map_hooray"
   ]
  },
  {
   "cell_type": "markdown",
   "metadata": {},
   "source": [
    "### Q2/ How can we best identify and visualize different geographical innovation networks? Can we estimate the number of people in such networks?\n",
    "_Q2.1/ If we then take a few examples of different types of companies and look at the network of patents supporting their own patents, will these networks match up with the former innovation networks, or will they be more self-contained? In the latter case, can we estimate the number of people that make up these networks? Are these innovation networks concentrated around specific areas, or are they spread out ?  \n",
    "Q2.2/ Do similar companies use the same knowledge bases to innovate? For example, if we look at different social networking companies, will the networks supporting their patents be distinct? Will a given companies patents mostly cite their own previous patents, or will they tap outside innovation networks? On what scale?  \n",
    "Q2.3/ What about if we look at university/academic knowledge bases and compare them with those of the companies analyzed above?   \n",
    "Q2.4/ What about governmental or non-governmental organizations, or international agencies?    \n",
    "Q2.5/ How have the innovation networks identified above evolved through time?_ "
   ]
  },
  {
   "cell_type": "markdown",
   "metadata": {},
   "source": [
    "### Approach Q2\n",
    "- For the geographically focused research question, a natural approach can be to explore the data using maps to visualize e.g. the innovation networks.  \n",
    "- In HW2 we worked with **Folium**, which can be one interesting tool here, as we have access to clean longitude- and latitude data (see preprocessing.ipynb). Folium has e.g. cluster-functionality, which could be a way to quantify the magnitude of the networks in different geographic zones. \n",
    "    - Folium also gives us the option to add interactivity.\n",
    "- To represent networks, an alternative could be to use a graph-based approach, where relationships between entities within a network could be represented by nodes and edges. The Python library **networkx**, which enables the creation of Network Graphs, is one option. \n",
    "    - Network representations could also be relevant to answer question 2.2, when exploring the citation of patents from similar companies. \n",
    "- Throughout the data story, the usage of **interactive graphs** could be particularly efficient in making the plots self-sufficient and to invite exploration by the reader. Adding the element of time can enable comparing the development of innovation networks, and by hovering over parts of the map the reader can obtain more detailed information. \n",
    "    - The Python library **HoloViews** can, alongside networkx, enable the creation of interactive network graphs. \n",
    "    - Another interactive visualization library to explore is **Bokeh**.\n",
    "- Questions Q2.1-2. could provide tangible examples for how prevalent (or not) patent networks are for well-known companies.\n",
    "- By following these results with those of questions Q2.3-4 we believe it could provide a good overview into the similarities and/or differences between the three major categories of organizations (academia, non-governmental and governmental organizations), hence being of interest to readers within various field, and also (hopefully) providing input to our peers (students) that might be interested in research and innovation, and that might contemplate various possible tracks for their careers.  \n",
    "\n",
    "In summary, the visualization techniques, as well as the amount of interactivity to add, if any, we decide upon will have a big impact on the quality of the data story. This latter is intended to be eventually recounted on a website spitted out by Jekyll, a static site generator."
   ]
  }
 ],
 "metadata": {
  "kernelspec": {
   "display_name": "Python [conda env:ada]",
   "language": "python",
   "name": "conda-env-ada-py"
  },
  "language_info": {
   "codemirror_mode": {
    "name": "ipython",
    "version": 3
   },
   "file_extension": ".py",
   "mimetype": "text/x-python",
   "name": "python",
   "nbconvert_exporter": "python",
   "pygments_lexer": "ipython3",
   "version": "3.6.6"
  }
 },
 "nbformat": 4,
 "nbformat_minor": 2
}
