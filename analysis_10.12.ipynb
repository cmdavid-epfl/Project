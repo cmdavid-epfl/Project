{
 "cells": [
  {
   "cell_type": "markdown",
   "metadata": {},
   "source": [
    "## Motivation\n",
    "\n",
    "- The purpose of this part is to present an initial outline for the tools that can help us in the creation of the Data Story, based on the work done thus far. \n",
    "- By iteratively updating, and keeping the outline in mind, we believe it will help us to reflect around how we can present our results in an effective manner throughout the data analysis pipeline. This approach will allow us to keep an open mind to finding new insights throughout the project.  \n",
    "- On the other hand, being conscious of the data story can also enable us to be more structured in our data analysis process, by developing the story we want to tell and finding the data that can support it. \n",
    "\n",
    "## Structure\n",
    "- The initial outline will be focused on how we could approach communicating the results for the research questions as well as a first outline for in which order it could be natural to present them. \n",
    "- Further iterations will aim at becoming more and more focused on creating a coherent story, that is following a well thought-through order to improve readability."
   ]
  },
  {
   "cell_type": "markdown",
   "metadata": {},
   "source": [
    "### Q1/ What does the typical patent-holder look like today (Corporation, Universities, Governments, Individuals), and how has that evolved throughout time / geographies?\n",
    "_Q1.1/ Is a migration of innovators through time visible in the data, e.g. a convergence towards certain innovation centers?  \n",
    "Q1.2 / How has the number of assignees and inventors evolved through time for different patent types? Are there significant differences in these numbers between different geographies?_  "
   ]
  },
  {
   "cell_type": "markdown",
   "metadata": {},
   "source": [
    "Get all the patents data for the year 2016."
   ]
  },
  {
   "cell_type": "code",
   "execution_count": 16,
   "metadata": {},
   "outputs": [],
   "source": [
    "# data processing\n",
    "import pandas as pd\n",
    "import numpy as np\n",
    "from pipeline import get_full_year_data, load_preprocessed_data, get_layers_data, load_layers\n",
    "\n",
    "# visualizations\n",
    "from folium import folium, plugins\n",
    "import matplotlib as mpl\n",
    "import ipywidgets"
   ]
  },
  {
   "cell_type": "markdown",
   "metadata": {},
   "source": [
    "**Define path to save all data files**"
   ]
  },
  {
   "cell_type": "code",
   "execution_count": 2,
   "metadata": {},
   "outputs": [],
   "source": [
    "MY_PATH = '/media/dcm/HDD/ADA_DATA'"
   ]
  },
  {
   "cell_type": "markdown",
   "metadata": {},
   "source": [
    "**Getting data for Q1**"
   ]
  },
  {
   "cell_type": "code",
   "execution_count": 3,
   "metadata": {},
   "outputs": [
    {
     "name": "stdout",
     "output_type": "stream",
     "text": [
      "/media/dcm/HDD/ADA_DATA 2000q1\n",
      "already on file\n",
      "/media/dcm/HDD/ADA_DATA 2000q2\n",
      "already on file\n",
      "/media/dcm/HDD/ADA_DATA 2000q3\n",
      "already on file\n",
      "/media/dcm/HDD/ADA_DATA 2000q4\n",
      "already on file\n",
      "/media/dcm/HDD/ADA_DATA 2001q1\n",
      "already on file\n",
      "/media/dcm/HDD/ADA_DATA 2001q2\n",
      "already on file\n",
      "/media/dcm/HDD/ADA_DATA 2001q3\n",
      "already on file\n",
      "/media/dcm/HDD/ADA_DATA 2001q4\n",
      "already on file\n",
      "/media/dcm/HDD/ADA_DATA 2002q1\n",
      "already on file\n",
      "/media/dcm/HDD/ADA_DATA 2002q2\n",
      "already on file\n",
      "/media/dcm/HDD/ADA_DATA 2002q3\n",
      "already on file\n",
      "/media/dcm/HDD/ADA_DATA 2002q4\n",
      "already on file\n",
      "/media/dcm/HDD/ADA_DATA 2003q1\n",
      "already on file\n",
      "/media/dcm/HDD/ADA_DATA 2003q2\n",
      "already on file\n",
      "/media/dcm/HDD/ADA_DATA 2003q3\n",
      "already on file\n",
      "/media/dcm/HDD/ADA_DATA 2003q4\n",
      "already on file\n"
     ]
    }
   ],
   "source": [
    "full_datafile_lists = {}\n",
    "full_year_data = {}\n",
    "year_range = range(2000,2003 + 1)\n",
    "\n",
    "for year in year_range:\n",
    "    full_datafile_lists[str(year)] = get_full_year_data(str(year), MY_PATH)"
   ]
  },
  {
   "cell_type": "code",
   "execution_count": 4,
   "metadata": {},
   "outputs": [],
   "source": [
    "for year in year_range:\n",
    "    full_year_data[str(year)] = load_preprocessed_data(full_datafile_lists[str(year)])"
   ]
  },
  {
   "cell_type": "markdown",
   "metadata": {},
   "source": [
    "**Example : getting data for Q2**"
   ]
  },
  {
   "cell_type": "code",
   "execution_count": null,
   "metadata": {},
   "outputs": [],
   "source": [
    "example_patent_file = get_layers_data('apple_example', MY_PATH, ['9430098'], 4)"
   ]
  },
  {
   "cell_type": "code",
   "execution_count": null,
   "metadata": {},
   "outputs": [],
   "source": [
    "apple_example_data = load_layers(example_patent_file)"
   ]
  },
  {
   "cell_type": "code",
   "execution_count": null,
   "metadata": {},
   "outputs": [],
   "source": [
    "len(apple_example_data['0']['inventors']), len(apple_example_data['1']['inventors']), len(apple_example_data['2']['inventors']), len(apple_example_data['3']['inventors'])"
   ]
  },
  {
   "cell_type": "markdown",
   "metadata": {},
   "source": [
    "### Approach Q1\n",
    "- Question 1 can be a natural way to progress after e.g. a short introduction about patents itself, providing the reader with insight into the main sources of patent creation as well as the potentially historic overview of the same metric.  \n",
    "- Q1.1 focuses on how data evolves through time from a geographic standpoint, and using  maps to visualize the migration could be a good approach. Below (Q2) interactive graphs are discussed and this could be one alternative here as well. \n",
    "    - One approach is to use several maps from ascending chronological periods of time where the reader could see if patterns of innovation centers emerge\n",
    "    - Another approach could be an interactive chart that enables toggling between different time periods by the reader, enabling comparison by using a single map.\n",
    "- Q1.2. can potentially provide a good segway into what we brought up in the Project's abstract: _\"While innovation is often portrayed as the product of either one charismatic leader - or a ragtag team of geniuses - in reality we suspect that innovations, however important, happen in small steps supported by large networks of people.\"_\n",
    "    - This will also be addressed in more detail in research question 2.\n",
    "    - Various barplots or line plots could provide helpful tools for answering the first part of the question, while the same tools might also be an initial way to approach the second part, after segmenting the data into geographies. Maps could also be explored here."
   ]
  },
  {
   "cell_type": "code",
   "execution_count": 5,
   "metadata": {},
   "outputs": [],
   "source": [
    "min_year = list(full_year_data.keys())[0]\n",
    "max_year = list(full_year_data.keys())[-1]"
   ]
  },
  {
   "cell_type": "code",
   "execution_count": 68,
   "metadata": {},
   "outputs": [],
   "source": [
    "def get_chart_color(patent_type):\n",
    "    \n",
    "    if patent_type == 'design' :\n",
    "        return (47/255, 147/255, 147/255)\n",
    "    \n",
    "    if patent_type == 'plant' :\n",
    "        return (151/255, 179/255, 100/255)\n",
    "    \n",
    "    if patent_type == 'utility' :\n",
    "        return (36/255, 93/255, 147/255)"
   ]
  },
  {
   "cell_type": "code",
   "execution_count": 69,
   "metadata": {},
   "outputs": [],
   "source": [
    "def get_ts():\n",
    "    num_patents_ts = []\n",
    "    num_inventors_ts = []\n",
    "    num_citations_ts = []\n",
    "    num_utility_patents_ts = []\n",
    "    num_design_patents_ts = []\n",
    "    prop_us_private_ts = []\n",
    "    prop_nonus_private_ts = []\n",
    "    \n",
    "    for year in full_year_data:\n",
    "        num_patents_ts.append(full_year_data[year]['num_patents'])\n",
    "        num_inventors_ts.append(full_year_data[year]['num_inventors'])\n",
    "        num_citations_ts.append(full_year_data[year]['num_citations'])\n",
    "        num_utility_patents_ts.append(full_year_data[year]['proportion_by_patent_type'].loc['utility'] * num_patents_ts[-1])\n",
    "        num_design_patents_ts.append(full_year_data[year]['proportion_by_patent_type'].loc['design'] * num_patents_ts[-1])\n",
    "        prop_us_private_ts.append(full_year_data[year]['proportion_by_assignee_type'].loc['2'])\n",
    "        prop_nonus_private_ts.append(full_year_data[year]['proportion_by_assignee_type'].loc['3'])\n",
    "        \n",
    "    num_patents_ts = np.array(num_patents_ts).flatten() / 1000\n",
    "    num_inventors_ts = np.array(num_inventors_ts).flatten() / 1000\n",
    "    num_citations_ts = np.array(num_citations_ts).flatten() / 1000\n",
    "    num_utility_patents_ts = np.array(num_utility_patents_ts).flatten() / 1000\n",
    "    num_design_patents_ts = np.array(num_design_patents_ts).flatten() / 1000\n",
    "    prop_us_private_ts = np.array(prop_us_private_ts).flatten()\n",
    "    prop_nonus_private_ts = np.array(prop_nonus_private_ts).flatten()\n",
    "    \n",
    "    return np.array(num_patents_ts), np.array(num_inventors_ts), np.array(num_citations_ts), np.array(num_utility_patents_ts), np.array(num_design_patents_ts), np.array(prop_us_private_ts), np.array(prop_nonus_private_ts)"
   ]
  },
  {
   "cell_type": "code",
   "execution_count": 70,
   "metadata": {},
   "outputs": [],
   "source": [
    "patents_ts, inventors_ts, citations_ts, utility_ts, design_ts, us_ts, nonus_ts = get_ts()"
   ]
  },
  {
   "cell_type": "code",
   "execution_count": 148,
   "metadata": {},
   "outputs": [],
   "source": [
    "def fig_param(years, viz) :\n",
    "    \n",
    "    year1 = years[0]\n",
    "    year2 = years[1]\n",
    "    \n",
    "    year_range = np.array(range(int(min_year), int(max_year) + 1))\n",
    "    selected_range = np.array(range(int(year1), int(year2) + 1))\n",
    "    patent_type_dist_y1 = full_year_data[str(year1)]['proportion_by_patent_type'].sort_values(by=0, ascending = False).iloc[:3,:]\n",
    "    patent_type_dist_y2 = full_year_data[str(year2)]['proportion_by_patent_type'].sort_values(by=0, ascending = False).iloc[:3,:]\n",
    "\n",
    "    if viz == 'Overview' :\n",
    "        \n",
    "        fig = mpl.pyplot.figure()\n",
    "        gs = mpl.gridspec.GridSpec(4, 2, wspace=0.5, hspace=0, height_ratios=[2, 1, 0.75, 0.75]) # 5x2 grid\n",
    "        ax0 = fig.add_subplot(gs[0, 0]) # first row, first col\n",
    "        ax1 = fig.add_subplot(gs[0, 1]) # first row, second col\n",
    "        ax2 = fig.add_subplot(gs[1, :]) # full second row\n",
    "        ax3 = fig.add_subplot(gs[2, :]) # full third row\n",
    "        ax4 = fig.add_subplot(gs[3, :]) # full fourth row\n",
    "        \n",
    "        \"\"\"\n",
    "        PLOT PIE CHARTS FOR SELECTED YEARS\n",
    "        \"\"\"\n",
    "        patches1, texts1, autotexts1 = ax0.pie(patent_type_dist_y1.values, labels = patent_type_dist_y1.index.values, \n",
    "                                               colors = [get_chart_color(p) for p in patent_type_dist_y1.index.values], \n",
    "                                               autopct='%1.1f%%', shadow=True)\n",
    "        ax0.set_title(year1, size = 30, pad=-10)\n",
    "\n",
    "        patches2, texts2, autotexts2 = ax1.pie(patent_type_dist_y2.values, labels = patent_type_dist_y2.index.values, \n",
    "                                               colors = [get_chart_color(p) for p in patent_type_dist_y2.index.values], \n",
    "                                               autopct='%1.1f%%', shadow=True)\n",
    "        ax1.set_title(year2, size = 30, pad=-10)\n",
    "\n",
    "        # FONT SIZE\n",
    "        for text in np.hstack([texts1, texts2, autotexts1, autotexts2]):\n",
    "            text.set_fontsize(20)\n",
    "\n",
    "        \"\"\"\n",
    "        PLOT LINE CHARTS\n",
    "        \"\"\"\n",
    "        ax2.set_title(\"All Numbers in [000's]\", size = 20)\n",
    "        # SELECTED RANGE INDICES\n",
    "        start = sum(selected_range[0] > year_range)\n",
    "        end = len(selected_range) + start\n",
    "\n",
    "        # BASE PATENTS\n",
    "        ax2.stackplot(year_range, utility_ts, design_ts, patents_ts - utility_ts - design_ts,\n",
    "                      colors = ['#CCE9FF','#DEFFEE','#FFEDF3'])\n",
    "        # HIGHLIGHTED SELECTION (YEAR RANGE)\n",
    "        ax2.stackplot(selected_range, utility_ts[start:end], design_ts[start:end], patents_ts[start:end] - utility_ts[start:end] - design_ts[start:end],\n",
    "                      labels = ['Number of Utility Patents', 'Design Patents', 'Other Patents'],\n",
    "                      colors = ['#377EB8','#55BA87','#7E1137'])\n",
    "\n",
    "        ax2.set_ylim(bottom=190)\n",
    "\n",
    "        # INVENTORS AND CITATIONS\n",
    "        ax3.plot(year_range, inventors_ts, linewidth = 2, color = '#CCE9FF')\n",
    "        ax4.plot(year_range, citations_ts, linewidth = 2, color = '#DEFFEE')\n",
    "        # HIGHLIGHTED SELECTION (YEAR RANGE)\n",
    "        ax3.plot(selected_range, inventors_ts[start:end], label = 'Number of Inventors', linewidth = 3, color = '#377EB8')\n",
    "        ax4.plot(selected_range, citations_ts[start:end], label = 'Number of Citations',linewidth = 3, color = '#55BA87')\n",
    "\n",
    "        # FORMAT PLOTS\n",
    "        #fig.patch.set_visible(False)\n",
    "        ax3.yaxis.tick_right()\n",
    "        ax4.set_xticks(year_range)\n",
    "\n",
    "        # despine\n",
    "        for i, a in enumerate([ax2, ax3, ax4]):\n",
    "            a.grid(axis = 'y')\n",
    "            a.tick_params(axis='y', which='both',length=0)\n",
    "            leg = a.legend(prop = {'size' : 14}, frameon = False, loc = 2)\n",
    "            leg.get_frame().set_linewidth(0.0)\n",
    "            for spine in [\"top\", \"right\", \"bottom\"]:\n",
    "                a.spines[spine].set_visible(False)\n",
    "                \n",
    "        fig.set_size_inches(14,12)\n",
    "        mpl.pyplot.show()\n",
    "    \n",
    "    if viz == 'Utility Patents':\n",
    "\n",
    "        fig = mpl.pyplot.figure()\n",
    "        gs = mpl.gridspec.GridSpec(1, 2, wspace=0.5, hspace=0, height_ratios=[0.5]) # 1x2 grid\n",
    "        ax0 = fig.add_subplot(gs[0, 0]) # first row, first col\n",
    "        ax1 = fig.add_subplot(gs[0, 1]) # first row, second col\n",
    "        \n",
    "        # top_assignees = full_year_data['2000']['inventors'].groupby(by='assignee').size().sort_values(ascending=False).keys().values[:10]\n",
    "\n",
    "        # draw map\n",
    "        map_ = folium.Map((30,15), zoom_start = 1.5)\n",
    "        hm = plugins.HeatMap(full_year_data[str(year1)]['inventors'][['latitude','longitude']].values[:1000,:],\n",
    "                     radius = 10)\n",
    "        hm.add_to(map_)\n",
    "\n",
    "        fig.set_size_inches(14,4)\n",
    "        mpl.pyplot.show()\n",
    "\n",
    "        display(map_)"
   ]
  },
  {
   "cell_type": "code",
   "execution_count": 152,
   "metadata": {},
   "outputs": [],
   "source": [
    "style = {'description_width': 'initial'}\n",
    "\n",
    "year_widget = ipywidgets.IntRangeSlider(\n",
    "    value=[int(min_year), int(max_year)],\n",
    "    min=int(min_year),\n",
    "    max=int(max_year),\n",
    "    step=1,\n",
    "    description='Select Time:',\n",
    "    disabled=False,\n",
    "    orientation='horizontal',\n",
    "    style = style,\n",
    "    layout= ipywidgets.Layout(width='60%', height='20px', margin='10px')\n",
    ")\n",
    "\n",
    "selection_widget = ipywidgets.ToggleButtons(\n",
    "    options=['Overview','Utility Patents','Design Patents','Plant Patents'],\n",
    "    description='Select Visualization:',\n",
    "    button_style='',\n",
    "    layout = ipywidgets.Layout(margin='10px'),\n",
    "    style = style\n",
    ")"
   ]
  },
  {
   "cell_type": "code",
   "execution_count": 153,
   "metadata": {
    "scrolled": false
   },
   "outputs": [],
   "source": [
    "q1_widget = ipywidgets.interactive(fig_param, years = year_widget, viz = selection_widget)"
   ]
  },
  {
   "cell_type": "code",
   "execution_count": 154,
   "metadata": {},
   "outputs": [
    {
     "data": {
      "application/vnd.jupyter.widget-view+json": {
       "model_id": "c4ec2a74289d431aacf57d8697336487",
       "version_major": 2,
       "version_minor": 0
      },
      "text/plain": [
       "interactive(children=(IntRangeSlider(value=(2000, 2003), description='Select Time:', layout=Layout(height='20p…"
      ]
     },
     "metadata": {},
     "output_type": "display_data"
    }
   ],
   "source": [
    "q1_widget"
   ]
  },
  {
   "cell_type": "markdown",
   "metadata": {},
   "source": [
    "### Q2/ How can we best identify and visualize different geographical innovation networks? Can we estimate the number of people in such networks?\n",
    "_Q2.1/ If we then take a few examples of different types of companies and look at the network of patents supporting their own patents, will these networks match up with the former innovation networks, or will they be more self-contained? In the latter case, can we estimate the number of people that make up these networks? Are these innovation networks concentrated around specific areas, or are they spread out ?  \n",
    "Q2.2/ Do similar companies use the same knowledge bases to innovate? For example, if we look at different social networking companies, will the networks supporting their patents be distinct? Will a given companies patents mostly cite their own previous patents, or will they tap outside innovation networks? On what scale?  \n",
    "Q2.3/ What about if we look at university/academic knowledge bases and compare them with those of the companies analyzed above?   \n",
    "Q2.4/ What about governmental or non-governmental organizations, or international agencies?    \n",
    "Q2.5/ How have the innovation networks identified above evolved through time?_ "
   ]
  },
  {
   "cell_type": "markdown",
   "metadata": {},
   "source": [
    "### Approach Q2\n",
    "- For the geographically focused research question, a natural approach can be to explore the data using maps to visualize e.g. the innovation networks.  \n",
    "- In HW2 we worked with **Folium**, which can be one interesting tool here, as we have access to clean longitude- and latitude data (see preprocessing.ipynb). Folium has e.g. cluster-functionality, which could be a way to quantify the magnitude of the networks in different geographic zones. \n",
    "    - Folium also gives us the option to add interactivity.\n",
    "- To represent networks, an alternative could be to use a graph-based approach, where relationships between entities within a network could be represented by nodes and edges. The Python library **networkx**, which enables the creation of Network Graphs, is one option. \n",
    "    - Network representations could also be relevant to answer question 2.2, when exploring the citation of patents from similar companies. \n",
    "- Throughout the data story, the usage of **interactive graphs** could be particularly efficient in making the plots self-sufficient and to invite exploration by the reader. Adding the element of time can enable comparing the development of innovation networks, and by hovering over parts of the map the reader can obtain more detailed information. \n",
    "    - The Python library **HoloViews** can, alongside networkx, enable the creation of interactive network graphs. \n",
    "    - Another interactive visualization library to explore is **Bokeh**.\n",
    "- Questions Q2.1-2. could provide tangible examples for how prevalent (or not) patent networks are for well-known companies.\n",
    "- By following these results with those of questions Q2.3-4 we believe it could provide a good overview into the similarities and/or differences between the three major categories of organizations (academia, non-governmental and governmental organizations), hence being of interest to readers within various field, and also (hopefully) providing input to our peers (students) that might be interested in research and innovation, and that might contemplate various possible tracks for their careers.  \n",
    "\n",
    "In summary, the visualization techniques, as well as the amount of interactivity to add, if any, we decide upon will have a big impact on the quality of the data story. This latter is intended to be eventually recounted on a website spitted out by Jekyll, a static site generator."
   ]
  }
 ],
 "metadata": {
  "kernelspec": {
   "display_name": "Python [conda env:ada]",
   "language": "python",
   "name": "conda-env-ada-py"
  },
  "language_info": {
   "codemirror_mode": {
    "name": "ipython",
    "version": 3
   },
   "file_extension": ".py",
   "mimetype": "text/x-python",
   "name": "python",
   "nbconvert_exporter": "python",
   "pygments_lexer": "ipython3",
   "version": "3.6.6"
  }
 },
 "nbformat": 4,
 "nbformat_minor": 2
}
